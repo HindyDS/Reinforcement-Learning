{
 "cells": [
  {
   "cell_type": "markdown",
   "id": "f8ca60b2",
   "metadata": {},
   "source": [
    "# memoization"
   ]
  },
  {
   "cell_type": "code",
   "execution_count": 3,
   "id": "54180381",
   "metadata": {},
   "outputs": [],
   "source": [
    "# memoization\n",
    "# Object, keys will be arg to fn, value will be the return value\n",
    "\n",
    "memo = {}\n",
    "\n",
    "def fib(n, memo):\n",
    "    if n in memo:\n",
    "        return memo[n]\n",
    "    \n",
    "    if n <= 2:\n",
    "        return 1\n",
    "    \n",
    "    # memo obj will remember the sub-tree\n",
    "    memo[n] = fib(n - 1, memo) + fib(n - 2, memo)\n",
    "     \n",
    "    return memo[n]"
   ]
  },
  {
   "cell_type": "code",
   "execution_count": 6,
   "id": "445cfdc9",
   "metadata": {},
   "outputs": [
    {
     "data": {
      "text/plain": [
       "12586269025"
      ]
     },
     "execution_count": 6,
     "metadata": {},
     "output_type": "execute_result"
    }
   ],
   "source": [
    "fib(50, memo)"
   ]
  },
  {
   "cell_type": "code",
   "execution_count": 11,
   "id": "1732b7d1",
   "metadata": {},
   "outputs": [
    {
     "data": {
      "text/plain": [
       "{3: 2,\n",
       " 4: 3,\n",
       " 5: 5,\n",
       " 6: 8,\n",
       " 7: 13,\n",
       " 8: 21,\n",
       " 9: 34,\n",
       " 10: 55,\n",
       " 11: 89,\n",
       " 12: 144,\n",
       " 13: 233,\n",
       " 14: 377,\n",
       " 15: 610,\n",
       " 16: 987,\n",
       " 17: 1597,\n",
       " 18: 2584,\n",
       " 19: 4181,\n",
       " 20: 6765,\n",
       " 21: 10946,\n",
       " 22: 17711,\n",
       " 23: 28657,\n",
       " 24: 46368,\n",
       " 25: 75025,\n",
       " 26: 121393,\n",
       " 27: 196418,\n",
       " 28: 317811,\n",
       " 29: 514229,\n",
       " 30: 832040,\n",
       " 31: 1346269,\n",
       " 32: 2178309,\n",
       " 33: 3524578,\n",
       " 34: 5702887,\n",
       " 35: 9227465,\n",
       " 36: 14930352,\n",
       " 37: 24157817,\n",
       " 38: 39088169,\n",
       " 39: 63245986,\n",
       " 40: 102334155,\n",
       " 41: 165580141,\n",
       " 42: 267914296,\n",
       " 43: 433494437,\n",
       " 44: 701408733,\n",
       " 45: 1134903170,\n",
       " 46: 1836311903,\n",
       " 47: 2971215073,\n",
       " 48: 4807526976,\n",
       " 49: 7778742049,\n",
       " 50: 12586269025}"
      ]
     },
     "execution_count": 11,
     "metadata": {},
     "output_type": "execute_result"
    }
   ],
   "source": [
    "memo"
   ]
  },
  {
   "cell_type": "markdown",
   "id": "761ada38",
   "metadata": {},
   "source": [
    "# Grid Travel"
   ]
  },
  {
   "cell_type": "code",
   "execution_count": 15,
   "id": "5d8658b4",
   "metadata": {},
   "outputs": [],
   "source": [
    "memo = {}\n",
    "\n",
    "def gridTraveler(m, n, memo):\n",
    "    if f\"({m}, {n})\" in memo.keys():\n",
    "        return memo[f\"({m}, {n})\"]\n",
    "    \n",
    "    if m == 1 and n == 1:\n",
    "        return 1\n",
    "    \n",
    "    if m == 0 or n == 0:\n",
    "        return 0\n",
    "    \n",
    "    memo[f\"({m}, {n})\"] = gridTraveler(m - 1, n, memo) + gridTraveler(m, n - 1, memo) \n",
    "    \n",
    "    return memo[f\"({m}, {n})\"]"
   ]
  },
  {
   "cell_type": "code",
   "execution_count": null,
   "id": "942279a7",
   "metadata": {},
   "outputs": [],
   "source": [
    "gridTraveler(18, 18, memo)"
   ]
  },
  {
   "cell_type": "code",
   "execution_count": 20,
   "id": "e99e2b74",
   "metadata": {},
   "outputs": [
    {
     "data": {
      "text/plain": [
       "{'(1, 2)': 1,\n",
       " '(1, 3)': 1,\n",
       " '(2, 1)': 1,\n",
       " '(2, 2)': 2,\n",
       " '(2, 3)': 3,\n",
       " '(3, 1)': 1,\n",
       " '(3, 2)': 3,\n",
       " '(3, 3)': 6,\n",
       " '(1, 4)': 1,\n",
       " '(1, 5)': 1,\n",
       " '(1, 6)': 1,\n",
       " '(1, 7)': 1,\n",
       " '(1, 8)': 1,\n",
       " '(1, 9)': 1,\n",
       " '(1, 10)': 1,\n",
       " '(1, 11)': 1,\n",
       " '(1, 12)': 1,\n",
       " '(1, 13)': 1,\n",
       " '(1, 14)': 1,\n",
       " '(1, 15)': 1,\n",
       " '(1, 16)': 1,\n",
       " '(1, 17)': 1,\n",
       " '(1, 18)': 1,\n",
       " '(2, 4)': 4,\n",
       " '(2, 5)': 5,\n",
       " '(2, 6)': 6,\n",
       " '(2, 7)': 7,\n",
       " '(2, 8)': 8,\n",
       " '(2, 9)': 9,\n",
       " '(2, 10)': 10,\n",
       " '(2, 11)': 11,\n",
       " '(2, 12)': 12,\n",
       " '(2, 13)': 13,\n",
       " '(2, 14)': 14,\n",
       " '(2, 15)': 15,\n",
       " '(2, 16)': 16,\n",
       " '(2, 17)': 17,\n",
       " '(2, 18)': 18,\n",
       " '(3, 4)': 10,\n",
       " '(3, 5)': 15,\n",
       " '(3, 6)': 21,\n",
       " '(3, 7)': 28,\n",
       " '(3, 8)': 36,\n",
       " '(3, 9)': 45,\n",
       " '(3, 10)': 55,\n",
       " '(3, 11)': 66,\n",
       " '(3, 12)': 78,\n",
       " '(3, 13)': 91,\n",
       " '(3, 14)': 105,\n",
       " '(3, 15)': 120,\n",
       " '(3, 16)': 136,\n",
       " '(3, 17)': 153,\n",
       " '(3, 18)': 171,\n",
       " '(4, 1)': 1,\n",
       " '(4, 2)': 4,\n",
       " '(4, 3)': 10,\n",
       " '(4, 4)': 20,\n",
       " '(4, 5)': 35,\n",
       " '(4, 6)': 56,\n",
       " '(4, 7)': 84,\n",
       " '(4, 8)': 120,\n",
       " '(4, 9)': 165,\n",
       " '(4, 10)': 220,\n",
       " '(4, 11)': 286,\n",
       " '(4, 12)': 364,\n",
       " '(4, 13)': 455,\n",
       " '(4, 14)': 560,\n",
       " '(4, 15)': 680,\n",
       " '(4, 16)': 816,\n",
       " '(4, 17)': 969,\n",
       " '(4, 18)': 1140,\n",
       " '(5, 1)': 1,\n",
       " '(5, 2)': 5,\n",
       " '(5, 3)': 15,\n",
       " '(5, 4)': 35,\n",
       " '(5, 5)': 70,\n",
       " '(5, 6)': 126,\n",
       " '(5, 7)': 210,\n",
       " '(5, 8)': 330,\n",
       " '(5, 9)': 495,\n",
       " '(5, 10)': 715,\n",
       " '(5, 11)': 1001,\n",
       " '(5, 12)': 1365,\n",
       " '(5, 13)': 1820,\n",
       " '(5, 14)': 2380,\n",
       " '(5, 15)': 3060,\n",
       " '(5, 16)': 3876,\n",
       " '(5, 17)': 4845,\n",
       " '(5, 18)': 5985,\n",
       " '(6, 1)': 1,\n",
       " '(6, 2)': 6,\n",
       " '(6, 3)': 21,\n",
       " '(6, 4)': 56,\n",
       " '(6, 5)': 126,\n",
       " '(6, 6)': 252,\n",
       " '(6, 7)': 462,\n",
       " '(6, 8)': 792,\n",
       " '(6, 9)': 1287,\n",
       " '(6, 10)': 2002,\n",
       " '(6, 11)': 3003,\n",
       " '(6, 12)': 4368,\n",
       " '(6, 13)': 6188,\n",
       " '(6, 14)': 8568,\n",
       " '(6, 15)': 11628,\n",
       " '(6, 16)': 15504,\n",
       " '(6, 17)': 20349,\n",
       " '(6, 18)': 26334,\n",
       " '(7, 1)': 1,\n",
       " '(7, 2)': 7,\n",
       " '(7, 3)': 28,\n",
       " '(7, 4)': 84,\n",
       " '(7, 5)': 210,\n",
       " '(7, 6)': 462,\n",
       " '(7, 7)': 924,\n",
       " '(7, 8)': 1716,\n",
       " '(7, 9)': 3003,\n",
       " '(7, 10)': 5005,\n",
       " '(7, 11)': 8008,\n",
       " '(7, 12)': 12376,\n",
       " '(7, 13)': 18564,\n",
       " '(7, 14)': 27132,\n",
       " '(7, 15)': 38760,\n",
       " '(7, 16)': 54264,\n",
       " '(7, 17)': 74613,\n",
       " '(7, 18)': 100947,\n",
       " '(8, 1)': 1,\n",
       " '(8, 2)': 8,\n",
       " '(8, 3)': 36,\n",
       " '(8, 4)': 120,\n",
       " '(8, 5)': 330,\n",
       " '(8, 6)': 792,\n",
       " '(8, 7)': 1716,\n",
       " '(8, 8)': 3432,\n",
       " '(8, 9)': 6435,\n",
       " '(8, 10)': 11440,\n",
       " '(8, 11)': 19448,\n",
       " '(8, 12)': 31824,\n",
       " '(8, 13)': 50388,\n",
       " '(8, 14)': 77520,\n",
       " '(8, 15)': 116280,\n",
       " '(8, 16)': 170544,\n",
       " '(8, 17)': 245157,\n",
       " '(8, 18)': 346104,\n",
       " '(9, 1)': 1,\n",
       " '(9, 2)': 9,\n",
       " '(9, 3)': 45,\n",
       " '(9, 4)': 165,\n",
       " '(9, 5)': 495,\n",
       " '(9, 6)': 1287,\n",
       " '(9, 7)': 3003,\n",
       " '(9, 8)': 6435,\n",
       " '(9, 9)': 12870,\n",
       " '(9, 10)': 24310,\n",
       " '(9, 11)': 43758,\n",
       " '(9, 12)': 75582,\n",
       " '(9, 13)': 125970,\n",
       " '(9, 14)': 203490,\n",
       " '(9, 15)': 319770,\n",
       " '(9, 16)': 490314,\n",
       " '(9, 17)': 735471,\n",
       " '(9, 18)': 1081575,\n",
       " '(10, 1)': 1,\n",
       " '(10, 2)': 10,\n",
       " '(10, 3)': 55,\n",
       " '(10, 4)': 220,\n",
       " '(10, 5)': 715,\n",
       " '(10, 6)': 2002,\n",
       " '(10, 7)': 5005,\n",
       " '(10, 8)': 11440,\n",
       " '(10, 9)': 24310,\n",
       " '(10, 10)': 48620,\n",
       " '(10, 11)': 92378,\n",
       " '(10, 12)': 167960,\n",
       " '(10, 13)': 293930,\n",
       " '(10, 14)': 497420,\n",
       " '(10, 15)': 817190,\n",
       " '(10, 16)': 1307504,\n",
       " '(10, 17)': 2042975,\n",
       " '(10, 18)': 3124550,\n",
       " '(11, 1)': 1,\n",
       " '(11, 2)': 11,\n",
       " '(11, 3)': 66,\n",
       " '(11, 4)': 286,\n",
       " '(11, 5)': 1001,\n",
       " '(11, 6)': 3003,\n",
       " '(11, 7)': 8008,\n",
       " '(11, 8)': 19448,\n",
       " '(11, 9)': 43758,\n",
       " '(11, 10)': 92378,\n",
       " '(11, 11)': 184756,\n",
       " '(11, 12)': 352716,\n",
       " '(11, 13)': 646646,\n",
       " '(11, 14)': 1144066,\n",
       " '(11, 15)': 1961256,\n",
       " '(11, 16)': 3268760,\n",
       " '(11, 17)': 5311735,\n",
       " '(11, 18)': 8436285,\n",
       " '(12, 1)': 1,\n",
       " '(12, 2)': 12,\n",
       " '(12, 3)': 78,\n",
       " '(12, 4)': 364,\n",
       " '(12, 5)': 1365,\n",
       " '(12, 6)': 4368,\n",
       " '(12, 7)': 12376,\n",
       " '(12, 8)': 31824,\n",
       " '(12, 9)': 75582,\n",
       " '(12, 10)': 167960,\n",
       " '(12, 11)': 352716,\n",
       " '(12, 12)': 705432,\n",
       " '(12, 13)': 1352078,\n",
       " '(12, 14)': 2496144,\n",
       " '(12, 15)': 4457400,\n",
       " '(12, 16)': 7726160,\n",
       " '(12, 17)': 13037895,\n",
       " '(12, 18)': 21474180,\n",
       " '(13, 1)': 1,\n",
       " '(13, 2)': 13,\n",
       " '(13, 3)': 91,\n",
       " '(13, 4)': 455,\n",
       " '(13, 5)': 1820,\n",
       " '(13, 6)': 6188,\n",
       " '(13, 7)': 18564,\n",
       " '(13, 8)': 50388,\n",
       " '(13, 9)': 125970,\n",
       " '(13, 10)': 293930,\n",
       " '(13, 11)': 646646,\n",
       " '(13, 12)': 1352078,\n",
       " '(13, 13)': 2704156,\n",
       " '(13, 14)': 5200300,\n",
       " '(13, 15)': 9657700,\n",
       " '(13, 16)': 17383860,\n",
       " '(13, 17)': 30421755,\n",
       " '(13, 18)': 51895935,\n",
       " '(14, 1)': 1,\n",
       " '(14, 2)': 14,\n",
       " '(14, 3)': 105,\n",
       " '(14, 4)': 560,\n",
       " '(14, 5)': 2380,\n",
       " '(14, 6)': 8568,\n",
       " '(14, 7)': 27132,\n",
       " '(14, 8)': 77520,\n",
       " '(14, 9)': 203490,\n",
       " '(14, 10)': 497420,\n",
       " '(14, 11)': 1144066,\n",
       " '(14, 12)': 2496144,\n",
       " '(14, 13)': 5200300,\n",
       " '(14, 14)': 10400600,\n",
       " '(14, 15)': 20058300,\n",
       " '(14, 16)': 37442160,\n",
       " '(14, 17)': 67863915,\n",
       " '(14, 18)': 119759850,\n",
       " '(15, 1)': 1,\n",
       " '(15, 2)': 15,\n",
       " '(15, 3)': 120,\n",
       " '(15, 4)': 680,\n",
       " '(15, 5)': 3060,\n",
       " '(15, 6)': 11628,\n",
       " '(15, 7)': 38760,\n",
       " '(15, 8)': 116280,\n",
       " '(15, 9)': 319770,\n",
       " '(15, 10)': 817190,\n",
       " '(15, 11)': 1961256,\n",
       " '(15, 12)': 4457400,\n",
       " '(15, 13)': 9657700,\n",
       " '(15, 14)': 20058300,\n",
       " '(15, 15)': 40116600,\n",
       " '(15, 16)': 77558760,\n",
       " '(15, 17)': 145422675,\n",
       " '(15, 18)': 265182525,\n",
       " '(16, 1)': 1,\n",
       " '(16, 2)': 16,\n",
       " '(16, 3)': 136,\n",
       " '(16, 4)': 816,\n",
       " '(16, 5)': 3876,\n",
       " '(16, 6)': 15504,\n",
       " '(16, 7)': 54264,\n",
       " '(16, 8)': 170544,\n",
       " '(16, 9)': 490314,\n",
       " '(16, 10)': 1307504,\n",
       " '(16, 11)': 3268760,\n",
       " '(16, 12)': 7726160,\n",
       " '(16, 13)': 17383860,\n",
       " '(16, 14)': 37442160,\n",
       " '(16, 15)': 77558760,\n",
       " '(16, 16)': 155117520,\n",
       " '(16, 17)': 300540195,\n",
       " '(16, 18)': 565722720,\n",
       " '(17, 1)': 1,\n",
       " '(17, 2)': 17,\n",
       " '(17, 3)': 153,\n",
       " '(17, 4)': 969,\n",
       " '(17, 5)': 4845,\n",
       " '(17, 6)': 20349,\n",
       " '(17, 7)': 74613,\n",
       " '(17, 8)': 245157,\n",
       " '(17, 9)': 735471,\n",
       " '(17, 10)': 2042975,\n",
       " '(17, 11)': 5311735,\n",
       " '(17, 12)': 13037895,\n",
       " '(17, 13)': 30421755,\n",
       " '(17, 14)': 67863915,\n",
       " '(17, 15)': 145422675,\n",
       " '(17, 16)': 300540195,\n",
       " '(17, 17)': 601080390,\n",
       " '(17, 18)': 1166803110,\n",
       " '(18, 1)': 1,\n",
       " '(18, 2)': 18,\n",
       " '(18, 3)': 171,\n",
       " '(18, 4)': 1140,\n",
       " '(18, 5)': 5985,\n",
       " '(18, 6)': 26334,\n",
       " '(18, 7)': 100947,\n",
       " '(18, 8)': 346104,\n",
       " '(18, 9)': 1081575,\n",
       " '(18, 10)': 3124550,\n",
       " '(18, 11)': 8436285,\n",
       " '(18, 12)': 21474180,\n",
       " '(18, 13)': 51895935,\n",
       " '(18, 14)': 119759850,\n",
       " '(18, 15)': 265182525,\n",
       " '(18, 16)': 565722720,\n",
       " '(18, 17)': 1166803110,\n",
       " '(18, 18)': 2333606220}"
      ]
     },
     "execution_count": 20,
     "metadata": {},
     "output_type": "execute_result"
    }
   ],
   "source": [
    "memo"
   ]
  },
  {
   "cell_type": "markdown",
   "id": "9ce94cc1",
   "metadata": {},
   "source": [
    "# Can Sum"
   ]
  },
  {
   "cell_type": "code",
   "execution_count": 10,
   "id": "974e1414",
   "metadata": {},
   "outputs": [],
   "source": [
    "memo = {}\n",
    "\n",
    "def canSum(target_sum, arr, memo):\n",
    "    if f\"{target_sum}, {arr}\" in memo:\n",
    "        return memo[f\"{target_sum}, {arr}\"]\n",
    "    \n",
    "    if target_sum == 0:\n",
    "        return True\n",
    "    \n",
    "    if target_sum < 0:\n",
    "        return False\n",
    "    \n",
    "    for a in arr:\n",
    "        remainder = target_sum - a\n",
    "        if canSum(remainder, arr, memo):\n",
    "            memo[f\"{target_sum}, {arr}\"] = True\n",
    "            return True\n",
    "        \n",
    "    memo[f\"{target_sum}, {arr}\"] = False\n",
    "    \n",
    "    return False"
   ]
  },
  {
   "cell_type": "code",
   "execution_count": 13,
   "id": "7334b880",
   "metadata": {},
   "outputs": [
    {
     "data": {
      "text/plain": [
       "False"
      ]
     },
     "execution_count": 13,
     "metadata": {},
     "output_type": "execute_result"
    }
   ],
   "source": [
    "canSum(300, [7, 14], memo)"
   ]
  },
  {
   "cell_type": "markdown",
   "id": "ff6c21c9",
   "metadata": {},
   "source": [
    "# How Sum"
   ]
  },
  {
   "cell_type": "code",
   "execution_count": 30,
   "id": "7ecbbd7a",
   "metadata": {},
   "outputs": [],
   "source": [
    "memo = {}\n",
    "\n",
    "def howSum(target_sum, arr, memo):\n",
    "    if f\"{target_sum}, {arr}\" in memo:\n",
    "        return memo[\"{target_sum}, {arr}\"]\n",
    "    \n",
    "    if target_sum == 0:\n",
    "        return []\n",
    "    \n",
    "    if target_sum < 0:\n",
    "        return None\n",
    "    \n",
    "    for a in arr:\n",
    "        remainder = target_sum - a\n",
    "        remainderResult = howSum(remainder, arr, memo)\n",
    "        if remainderResult != None:\n",
    "            memo[\"{target_sum}, {arr}\"] = remainderResult + [a]\n",
    "            return remainderResult + [a]\n",
    "    \n",
    "    memo[\"{target_sum}, {arr}\"] = None\n",
    "    return None"
   ]
  },
  {
   "cell_type": "code",
   "execution_count": 31,
   "id": "138e9556",
   "metadata": {},
   "outputs": [
    {
     "data": {
      "text/plain": [
       "[3, 2, 2]"
      ]
     },
     "execution_count": 31,
     "metadata": {},
     "output_type": "execute_result"
    }
   ],
   "source": [
    "howSum(7, [2, 3], memo)"
   ]
  },
  {
   "cell_type": "code",
   "execution_count": 33,
   "id": "dbe98ca7",
   "metadata": {
    "collapsed": true
   },
   "outputs": [
    {
     "ename": "KeyboardInterrupt",
     "evalue": "",
     "output_type": "error",
     "traceback": [
      "\u001b[0;31m---------------------------------------------------------------------------\u001b[0m",
      "\u001b[0;31mKeyboardInterrupt\u001b[0m                         Traceback (most recent call last)",
      "\u001b[0;32m<ipython-input-33-abb5334fcb97>\u001b[0m in \u001b[0;36m<module>\u001b[0;34m\u001b[0m\n\u001b[0;32m----> 1\u001b[0;31m \u001b[0mhowSum\u001b[0m\u001b[0;34m(\u001b[0m\u001b[0;36m300\u001b[0m\u001b[0;34m,\u001b[0m \u001b[0;34m[\u001b[0m\u001b[0;36m7\u001b[0m\u001b[0;34m,\u001b[0m \u001b[0;36m14\u001b[0m\u001b[0;34m]\u001b[0m\u001b[0;34m,\u001b[0m \u001b[0mmemo\u001b[0m\u001b[0;34m)\u001b[0m\u001b[0;34m\u001b[0m\u001b[0;34m\u001b[0m\u001b[0m\n\u001b[0m",
      "\u001b[0;32m<ipython-input-30-faf0ea858d44>\u001b[0m in \u001b[0;36mhowSum\u001b[0;34m(target_sum, arr, memo)\u001b[0m\n\u001b[1;32m     13\u001b[0m     \u001b[0;32mfor\u001b[0m \u001b[0ma\u001b[0m \u001b[0;32min\u001b[0m \u001b[0marr\u001b[0m\u001b[0;34m:\u001b[0m\u001b[0;34m\u001b[0m\u001b[0;34m\u001b[0m\u001b[0m\n\u001b[1;32m     14\u001b[0m         \u001b[0mremainder\u001b[0m \u001b[0;34m=\u001b[0m \u001b[0mtarget_sum\u001b[0m \u001b[0;34m-\u001b[0m \u001b[0ma\u001b[0m\u001b[0;34m\u001b[0m\u001b[0;34m\u001b[0m\u001b[0m\n\u001b[0;32m---> 15\u001b[0;31m         \u001b[0mremainderResult\u001b[0m \u001b[0;34m=\u001b[0m \u001b[0mhowSum\u001b[0m\u001b[0;34m(\u001b[0m\u001b[0mremainder\u001b[0m\u001b[0;34m,\u001b[0m \u001b[0marr\u001b[0m\u001b[0;34m,\u001b[0m \u001b[0mmemo\u001b[0m\u001b[0;34m)\u001b[0m\u001b[0;34m\u001b[0m\u001b[0;34m\u001b[0m\u001b[0m\n\u001b[0m\u001b[1;32m     16\u001b[0m         \u001b[0;32mif\u001b[0m \u001b[0mremainderResult\u001b[0m \u001b[0;34m!=\u001b[0m \u001b[0;32mNone\u001b[0m\u001b[0;34m:\u001b[0m\u001b[0;34m\u001b[0m\u001b[0;34m\u001b[0m\u001b[0m\n\u001b[1;32m     17\u001b[0m             \u001b[0mmemo\u001b[0m\u001b[0;34m[\u001b[0m\u001b[0;34m\"{target_sum}, {arr}\"\u001b[0m\u001b[0;34m]\u001b[0m \u001b[0;34m=\u001b[0m \u001b[0mremainderResult\u001b[0m \u001b[0;34m+\u001b[0m \u001b[0;34m[\u001b[0m\u001b[0ma\u001b[0m\u001b[0;34m]\u001b[0m\u001b[0;34m\u001b[0m\u001b[0;34m\u001b[0m\u001b[0m\n",
      "\u001b[0;32m<ipython-input-30-faf0ea858d44>\u001b[0m in \u001b[0;36mhowSum\u001b[0;34m(target_sum, arr, memo)\u001b[0m\n\u001b[1;32m     13\u001b[0m     \u001b[0;32mfor\u001b[0m \u001b[0ma\u001b[0m \u001b[0;32min\u001b[0m \u001b[0marr\u001b[0m\u001b[0;34m:\u001b[0m\u001b[0;34m\u001b[0m\u001b[0;34m\u001b[0m\u001b[0m\n\u001b[1;32m     14\u001b[0m         \u001b[0mremainder\u001b[0m \u001b[0;34m=\u001b[0m \u001b[0mtarget_sum\u001b[0m \u001b[0;34m-\u001b[0m \u001b[0ma\u001b[0m\u001b[0;34m\u001b[0m\u001b[0;34m\u001b[0m\u001b[0m\n\u001b[0;32m---> 15\u001b[0;31m         \u001b[0mremainderResult\u001b[0m \u001b[0;34m=\u001b[0m \u001b[0mhowSum\u001b[0m\u001b[0;34m(\u001b[0m\u001b[0mremainder\u001b[0m\u001b[0;34m,\u001b[0m \u001b[0marr\u001b[0m\u001b[0;34m,\u001b[0m \u001b[0mmemo\u001b[0m\u001b[0;34m)\u001b[0m\u001b[0;34m\u001b[0m\u001b[0;34m\u001b[0m\u001b[0m\n\u001b[0m\u001b[1;32m     16\u001b[0m         \u001b[0;32mif\u001b[0m \u001b[0mremainderResult\u001b[0m \u001b[0;34m!=\u001b[0m \u001b[0;32mNone\u001b[0m\u001b[0;34m:\u001b[0m\u001b[0;34m\u001b[0m\u001b[0;34m\u001b[0m\u001b[0m\n\u001b[1;32m     17\u001b[0m             \u001b[0mmemo\u001b[0m\u001b[0;34m[\u001b[0m\u001b[0;34m\"{target_sum}, {arr}\"\u001b[0m\u001b[0;34m]\u001b[0m \u001b[0;34m=\u001b[0m \u001b[0mremainderResult\u001b[0m \u001b[0;34m+\u001b[0m \u001b[0;34m[\u001b[0m\u001b[0ma\u001b[0m\u001b[0;34m]\u001b[0m\u001b[0;34m\u001b[0m\u001b[0;34m\u001b[0m\u001b[0m\n",
      "\u001b[0;32m<ipython-input-30-faf0ea858d44>\u001b[0m in \u001b[0;36mhowSum\u001b[0;34m(target_sum, arr, memo)\u001b[0m\n\u001b[1;32m     13\u001b[0m     \u001b[0;32mfor\u001b[0m \u001b[0ma\u001b[0m \u001b[0;32min\u001b[0m \u001b[0marr\u001b[0m\u001b[0;34m:\u001b[0m\u001b[0;34m\u001b[0m\u001b[0;34m\u001b[0m\u001b[0m\n\u001b[1;32m     14\u001b[0m         \u001b[0mremainder\u001b[0m \u001b[0;34m=\u001b[0m \u001b[0mtarget_sum\u001b[0m \u001b[0;34m-\u001b[0m \u001b[0ma\u001b[0m\u001b[0;34m\u001b[0m\u001b[0;34m\u001b[0m\u001b[0m\n\u001b[0;32m---> 15\u001b[0;31m         \u001b[0mremainderResult\u001b[0m \u001b[0;34m=\u001b[0m \u001b[0mhowSum\u001b[0m\u001b[0;34m(\u001b[0m\u001b[0mremainder\u001b[0m\u001b[0;34m,\u001b[0m \u001b[0marr\u001b[0m\u001b[0;34m,\u001b[0m \u001b[0mmemo\u001b[0m\u001b[0;34m)\u001b[0m\u001b[0;34m\u001b[0m\u001b[0;34m\u001b[0m\u001b[0m\n\u001b[0m\u001b[1;32m     16\u001b[0m         \u001b[0;32mif\u001b[0m \u001b[0mremainderResult\u001b[0m \u001b[0;34m!=\u001b[0m \u001b[0;32mNone\u001b[0m\u001b[0;34m:\u001b[0m\u001b[0;34m\u001b[0m\u001b[0;34m\u001b[0m\u001b[0m\n\u001b[1;32m     17\u001b[0m             \u001b[0mmemo\u001b[0m\u001b[0;34m[\u001b[0m\u001b[0;34m\"{target_sum}, {arr}\"\u001b[0m\u001b[0;34m]\u001b[0m \u001b[0;34m=\u001b[0m \u001b[0mremainderResult\u001b[0m \u001b[0;34m+\u001b[0m \u001b[0;34m[\u001b[0m\u001b[0ma\u001b[0m\u001b[0;34m]\u001b[0m\u001b[0;34m\u001b[0m\u001b[0;34m\u001b[0m\u001b[0m\n",
      "\u001b[0;32m<ipython-input-30-faf0ea858d44>\u001b[0m in \u001b[0;36mhowSum\u001b[0;34m(target_sum, arr, memo)\u001b[0m\n\u001b[1;32m     13\u001b[0m     \u001b[0;32mfor\u001b[0m \u001b[0ma\u001b[0m \u001b[0;32min\u001b[0m \u001b[0marr\u001b[0m\u001b[0;34m:\u001b[0m\u001b[0;34m\u001b[0m\u001b[0;34m\u001b[0m\u001b[0m\n\u001b[1;32m     14\u001b[0m         \u001b[0mremainder\u001b[0m \u001b[0;34m=\u001b[0m \u001b[0mtarget_sum\u001b[0m \u001b[0;34m-\u001b[0m \u001b[0ma\u001b[0m\u001b[0;34m\u001b[0m\u001b[0;34m\u001b[0m\u001b[0m\n\u001b[0;32m---> 15\u001b[0;31m         \u001b[0mremainderResult\u001b[0m \u001b[0;34m=\u001b[0m \u001b[0mhowSum\u001b[0m\u001b[0;34m(\u001b[0m\u001b[0mremainder\u001b[0m\u001b[0;34m,\u001b[0m \u001b[0marr\u001b[0m\u001b[0;34m,\u001b[0m \u001b[0mmemo\u001b[0m\u001b[0;34m)\u001b[0m\u001b[0;34m\u001b[0m\u001b[0;34m\u001b[0m\u001b[0m\n\u001b[0m\u001b[1;32m     16\u001b[0m         \u001b[0;32mif\u001b[0m \u001b[0mremainderResult\u001b[0m \u001b[0;34m!=\u001b[0m \u001b[0;32mNone\u001b[0m\u001b[0;34m:\u001b[0m\u001b[0;34m\u001b[0m\u001b[0;34m\u001b[0m\u001b[0m\n\u001b[1;32m     17\u001b[0m             \u001b[0mmemo\u001b[0m\u001b[0;34m[\u001b[0m\u001b[0;34m\"{target_sum}, {arr}\"\u001b[0m\u001b[0;34m]\u001b[0m \u001b[0;34m=\u001b[0m \u001b[0mremainderResult\u001b[0m \u001b[0;34m+\u001b[0m \u001b[0;34m[\u001b[0m\u001b[0ma\u001b[0m\u001b[0;34m]\u001b[0m\u001b[0;34m\u001b[0m\u001b[0;34m\u001b[0m\u001b[0m\n",
      "\u001b[0;32m<ipython-input-30-faf0ea858d44>\u001b[0m in \u001b[0;36mhowSum\u001b[0;34m(target_sum, arr, memo)\u001b[0m\n\u001b[1;32m     13\u001b[0m     \u001b[0;32mfor\u001b[0m \u001b[0ma\u001b[0m \u001b[0;32min\u001b[0m \u001b[0marr\u001b[0m\u001b[0;34m:\u001b[0m\u001b[0;34m\u001b[0m\u001b[0;34m\u001b[0m\u001b[0m\n\u001b[1;32m     14\u001b[0m         \u001b[0mremainder\u001b[0m \u001b[0;34m=\u001b[0m \u001b[0mtarget_sum\u001b[0m \u001b[0;34m-\u001b[0m \u001b[0ma\u001b[0m\u001b[0;34m\u001b[0m\u001b[0;34m\u001b[0m\u001b[0m\n\u001b[0;32m---> 15\u001b[0;31m         \u001b[0mremainderResult\u001b[0m \u001b[0;34m=\u001b[0m \u001b[0mhowSum\u001b[0m\u001b[0;34m(\u001b[0m\u001b[0mremainder\u001b[0m\u001b[0;34m,\u001b[0m \u001b[0marr\u001b[0m\u001b[0;34m,\u001b[0m \u001b[0mmemo\u001b[0m\u001b[0;34m)\u001b[0m\u001b[0;34m\u001b[0m\u001b[0;34m\u001b[0m\u001b[0m\n\u001b[0m\u001b[1;32m     16\u001b[0m         \u001b[0;32mif\u001b[0m \u001b[0mremainderResult\u001b[0m \u001b[0;34m!=\u001b[0m \u001b[0;32mNone\u001b[0m\u001b[0;34m:\u001b[0m\u001b[0;34m\u001b[0m\u001b[0;34m\u001b[0m\u001b[0m\n\u001b[1;32m     17\u001b[0m             \u001b[0mmemo\u001b[0m\u001b[0;34m[\u001b[0m\u001b[0;34m\"{target_sum}, {arr}\"\u001b[0m\u001b[0;34m]\u001b[0m \u001b[0;34m=\u001b[0m \u001b[0mremainderResult\u001b[0m \u001b[0;34m+\u001b[0m \u001b[0;34m[\u001b[0m\u001b[0ma\u001b[0m\u001b[0;34m]\u001b[0m\u001b[0;34m\u001b[0m\u001b[0;34m\u001b[0m\u001b[0m\n",
      "\u001b[0;32m<ipython-input-30-faf0ea858d44>\u001b[0m in \u001b[0;36mhowSum\u001b[0;34m(target_sum, arr, memo)\u001b[0m\n\u001b[1;32m     13\u001b[0m     \u001b[0;32mfor\u001b[0m \u001b[0ma\u001b[0m \u001b[0;32min\u001b[0m \u001b[0marr\u001b[0m\u001b[0;34m:\u001b[0m\u001b[0;34m\u001b[0m\u001b[0;34m\u001b[0m\u001b[0m\n\u001b[1;32m     14\u001b[0m         \u001b[0mremainder\u001b[0m \u001b[0;34m=\u001b[0m \u001b[0mtarget_sum\u001b[0m \u001b[0;34m-\u001b[0m \u001b[0ma\u001b[0m\u001b[0;34m\u001b[0m\u001b[0;34m\u001b[0m\u001b[0m\n\u001b[0;32m---> 15\u001b[0;31m         \u001b[0mremainderResult\u001b[0m \u001b[0;34m=\u001b[0m \u001b[0mhowSum\u001b[0m\u001b[0;34m(\u001b[0m\u001b[0mremainder\u001b[0m\u001b[0;34m,\u001b[0m \u001b[0marr\u001b[0m\u001b[0;34m,\u001b[0m \u001b[0mmemo\u001b[0m\u001b[0;34m)\u001b[0m\u001b[0;34m\u001b[0m\u001b[0;34m\u001b[0m\u001b[0m\n\u001b[0m\u001b[1;32m     16\u001b[0m         \u001b[0;32mif\u001b[0m \u001b[0mremainderResult\u001b[0m \u001b[0;34m!=\u001b[0m \u001b[0;32mNone\u001b[0m\u001b[0;34m:\u001b[0m\u001b[0;34m\u001b[0m\u001b[0;34m\u001b[0m\u001b[0m\n\u001b[1;32m     17\u001b[0m             \u001b[0mmemo\u001b[0m\u001b[0;34m[\u001b[0m\u001b[0;34m\"{target_sum}, {arr}\"\u001b[0m\u001b[0;34m]\u001b[0m \u001b[0;34m=\u001b[0m \u001b[0mremainderResult\u001b[0m \u001b[0;34m+\u001b[0m \u001b[0;34m[\u001b[0m\u001b[0ma\u001b[0m\u001b[0;34m]\u001b[0m\u001b[0;34m\u001b[0m\u001b[0;34m\u001b[0m\u001b[0m\n",
      "\u001b[0;32m<ipython-input-30-faf0ea858d44>\u001b[0m in \u001b[0;36mhowSum\u001b[0;34m(target_sum, arr, memo)\u001b[0m\n\u001b[1;32m     13\u001b[0m     \u001b[0;32mfor\u001b[0m \u001b[0ma\u001b[0m \u001b[0;32min\u001b[0m \u001b[0marr\u001b[0m\u001b[0;34m:\u001b[0m\u001b[0;34m\u001b[0m\u001b[0;34m\u001b[0m\u001b[0m\n\u001b[1;32m     14\u001b[0m         \u001b[0mremainder\u001b[0m \u001b[0;34m=\u001b[0m \u001b[0mtarget_sum\u001b[0m \u001b[0;34m-\u001b[0m \u001b[0ma\u001b[0m\u001b[0;34m\u001b[0m\u001b[0;34m\u001b[0m\u001b[0m\n\u001b[0;32m---> 15\u001b[0;31m         \u001b[0mremainderResult\u001b[0m \u001b[0;34m=\u001b[0m \u001b[0mhowSum\u001b[0m\u001b[0;34m(\u001b[0m\u001b[0mremainder\u001b[0m\u001b[0;34m,\u001b[0m \u001b[0marr\u001b[0m\u001b[0;34m,\u001b[0m \u001b[0mmemo\u001b[0m\u001b[0;34m)\u001b[0m\u001b[0;34m\u001b[0m\u001b[0;34m\u001b[0m\u001b[0m\n\u001b[0m\u001b[1;32m     16\u001b[0m         \u001b[0;32mif\u001b[0m \u001b[0mremainderResult\u001b[0m \u001b[0;34m!=\u001b[0m \u001b[0;32mNone\u001b[0m\u001b[0;34m:\u001b[0m\u001b[0;34m\u001b[0m\u001b[0;34m\u001b[0m\u001b[0m\n\u001b[1;32m     17\u001b[0m             \u001b[0mmemo\u001b[0m\u001b[0;34m[\u001b[0m\u001b[0;34m\"{target_sum}, {arr}\"\u001b[0m\u001b[0;34m]\u001b[0m \u001b[0;34m=\u001b[0m \u001b[0mremainderResult\u001b[0m \u001b[0;34m+\u001b[0m \u001b[0;34m[\u001b[0m\u001b[0ma\u001b[0m\u001b[0;34m]\u001b[0m\u001b[0;34m\u001b[0m\u001b[0;34m\u001b[0m\u001b[0m\n",
      "\u001b[0;32m<ipython-input-30-faf0ea858d44>\u001b[0m in \u001b[0;36mhowSum\u001b[0;34m(target_sum, arr, memo)\u001b[0m\n\u001b[1;32m     13\u001b[0m     \u001b[0;32mfor\u001b[0m \u001b[0ma\u001b[0m \u001b[0;32min\u001b[0m \u001b[0marr\u001b[0m\u001b[0;34m:\u001b[0m\u001b[0;34m\u001b[0m\u001b[0;34m\u001b[0m\u001b[0m\n\u001b[1;32m     14\u001b[0m         \u001b[0mremainder\u001b[0m \u001b[0;34m=\u001b[0m \u001b[0mtarget_sum\u001b[0m \u001b[0;34m-\u001b[0m \u001b[0ma\u001b[0m\u001b[0;34m\u001b[0m\u001b[0;34m\u001b[0m\u001b[0m\n\u001b[0;32m---> 15\u001b[0;31m         \u001b[0mremainderResult\u001b[0m \u001b[0;34m=\u001b[0m \u001b[0mhowSum\u001b[0m\u001b[0;34m(\u001b[0m\u001b[0mremainder\u001b[0m\u001b[0;34m,\u001b[0m \u001b[0marr\u001b[0m\u001b[0;34m,\u001b[0m \u001b[0mmemo\u001b[0m\u001b[0;34m)\u001b[0m\u001b[0;34m\u001b[0m\u001b[0;34m\u001b[0m\u001b[0m\n\u001b[0m\u001b[1;32m     16\u001b[0m         \u001b[0;32mif\u001b[0m \u001b[0mremainderResult\u001b[0m \u001b[0;34m!=\u001b[0m \u001b[0;32mNone\u001b[0m\u001b[0;34m:\u001b[0m\u001b[0;34m\u001b[0m\u001b[0;34m\u001b[0m\u001b[0m\n\u001b[1;32m     17\u001b[0m             \u001b[0mmemo\u001b[0m\u001b[0;34m[\u001b[0m\u001b[0;34m\"{target_sum}, {arr}\"\u001b[0m\u001b[0;34m]\u001b[0m \u001b[0;34m=\u001b[0m \u001b[0mremainderResult\u001b[0m \u001b[0;34m+\u001b[0m \u001b[0;34m[\u001b[0m\u001b[0ma\u001b[0m\u001b[0;34m]\u001b[0m\u001b[0;34m\u001b[0m\u001b[0;34m\u001b[0m\u001b[0m\n",
      "\u001b[0;32m<ipython-input-30-faf0ea858d44>\u001b[0m in \u001b[0;36mhowSum\u001b[0;34m(target_sum, arr, memo)\u001b[0m\n\u001b[1;32m     13\u001b[0m     \u001b[0;32mfor\u001b[0m \u001b[0ma\u001b[0m \u001b[0;32min\u001b[0m \u001b[0marr\u001b[0m\u001b[0;34m:\u001b[0m\u001b[0;34m\u001b[0m\u001b[0;34m\u001b[0m\u001b[0m\n\u001b[1;32m     14\u001b[0m         \u001b[0mremainder\u001b[0m \u001b[0;34m=\u001b[0m \u001b[0mtarget_sum\u001b[0m \u001b[0;34m-\u001b[0m \u001b[0ma\u001b[0m\u001b[0;34m\u001b[0m\u001b[0;34m\u001b[0m\u001b[0m\n\u001b[0;32m---> 15\u001b[0;31m         \u001b[0mremainderResult\u001b[0m \u001b[0;34m=\u001b[0m \u001b[0mhowSum\u001b[0m\u001b[0;34m(\u001b[0m\u001b[0mremainder\u001b[0m\u001b[0;34m,\u001b[0m \u001b[0marr\u001b[0m\u001b[0;34m,\u001b[0m \u001b[0mmemo\u001b[0m\u001b[0;34m)\u001b[0m\u001b[0;34m\u001b[0m\u001b[0;34m\u001b[0m\u001b[0m\n\u001b[0m\u001b[1;32m     16\u001b[0m         \u001b[0;32mif\u001b[0m \u001b[0mremainderResult\u001b[0m \u001b[0;34m!=\u001b[0m \u001b[0;32mNone\u001b[0m\u001b[0;34m:\u001b[0m\u001b[0;34m\u001b[0m\u001b[0;34m\u001b[0m\u001b[0m\n\u001b[1;32m     17\u001b[0m             \u001b[0mmemo\u001b[0m\u001b[0;34m[\u001b[0m\u001b[0;34m\"{target_sum}, {arr}\"\u001b[0m\u001b[0;34m]\u001b[0m \u001b[0;34m=\u001b[0m \u001b[0mremainderResult\u001b[0m \u001b[0;34m+\u001b[0m \u001b[0;34m[\u001b[0m\u001b[0ma\u001b[0m\u001b[0;34m]\u001b[0m\u001b[0;34m\u001b[0m\u001b[0;34m\u001b[0m\u001b[0m\n",
      "\u001b[0;32m<ipython-input-30-faf0ea858d44>\u001b[0m in \u001b[0;36mhowSum\u001b[0;34m(target_sum, arr, memo)\u001b[0m\n\u001b[1;32m     13\u001b[0m     \u001b[0;32mfor\u001b[0m \u001b[0ma\u001b[0m \u001b[0;32min\u001b[0m \u001b[0marr\u001b[0m\u001b[0;34m:\u001b[0m\u001b[0;34m\u001b[0m\u001b[0;34m\u001b[0m\u001b[0m\n\u001b[1;32m     14\u001b[0m         \u001b[0mremainder\u001b[0m \u001b[0;34m=\u001b[0m \u001b[0mtarget_sum\u001b[0m \u001b[0;34m-\u001b[0m \u001b[0ma\u001b[0m\u001b[0;34m\u001b[0m\u001b[0;34m\u001b[0m\u001b[0m\n\u001b[0;32m---> 15\u001b[0;31m         \u001b[0mremainderResult\u001b[0m \u001b[0;34m=\u001b[0m \u001b[0mhowSum\u001b[0m\u001b[0;34m(\u001b[0m\u001b[0mremainder\u001b[0m\u001b[0;34m,\u001b[0m \u001b[0marr\u001b[0m\u001b[0;34m,\u001b[0m \u001b[0mmemo\u001b[0m\u001b[0;34m)\u001b[0m\u001b[0;34m\u001b[0m\u001b[0;34m\u001b[0m\u001b[0m\n\u001b[0m\u001b[1;32m     16\u001b[0m         \u001b[0;32mif\u001b[0m \u001b[0mremainderResult\u001b[0m \u001b[0;34m!=\u001b[0m \u001b[0;32mNone\u001b[0m\u001b[0;34m:\u001b[0m\u001b[0;34m\u001b[0m\u001b[0;34m\u001b[0m\u001b[0m\n\u001b[1;32m     17\u001b[0m             \u001b[0mmemo\u001b[0m\u001b[0;34m[\u001b[0m\u001b[0;34m\"{target_sum}, {arr}\"\u001b[0m\u001b[0;34m]\u001b[0m \u001b[0;34m=\u001b[0m \u001b[0mremainderResult\u001b[0m \u001b[0;34m+\u001b[0m \u001b[0;34m[\u001b[0m\u001b[0ma\u001b[0m\u001b[0;34m]\u001b[0m\u001b[0;34m\u001b[0m\u001b[0;34m\u001b[0m\u001b[0m\n",
      "\u001b[0;32m<ipython-input-30-faf0ea858d44>\u001b[0m in \u001b[0;36mhowSum\u001b[0;34m(target_sum, arr, memo)\u001b[0m\n\u001b[1;32m     13\u001b[0m     \u001b[0;32mfor\u001b[0m \u001b[0ma\u001b[0m \u001b[0;32min\u001b[0m \u001b[0marr\u001b[0m\u001b[0;34m:\u001b[0m\u001b[0;34m\u001b[0m\u001b[0;34m\u001b[0m\u001b[0m\n\u001b[1;32m     14\u001b[0m         \u001b[0mremainder\u001b[0m \u001b[0;34m=\u001b[0m \u001b[0mtarget_sum\u001b[0m \u001b[0;34m-\u001b[0m \u001b[0ma\u001b[0m\u001b[0;34m\u001b[0m\u001b[0;34m\u001b[0m\u001b[0m\n\u001b[0;32m---> 15\u001b[0;31m         \u001b[0mremainderResult\u001b[0m \u001b[0;34m=\u001b[0m \u001b[0mhowSum\u001b[0m\u001b[0;34m(\u001b[0m\u001b[0mremainder\u001b[0m\u001b[0;34m,\u001b[0m \u001b[0marr\u001b[0m\u001b[0;34m,\u001b[0m \u001b[0mmemo\u001b[0m\u001b[0;34m)\u001b[0m\u001b[0;34m\u001b[0m\u001b[0;34m\u001b[0m\u001b[0m\n\u001b[0m\u001b[1;32m     16\u001b[0m         \u001b[0;32mif\u001b[0m \u001b[0mremainderResult\u001b[0m \u001b[0;34m!=\u001b[0m \u001b[0;32mNone\u001b[0m\u001b[0;34m:\u001b[0m\u001b[0;34m\u001b[0m\u001b[0;34m\u001b[0m\u001b[0m\n\u001b[1;32m     17\u001b[0m             \u001b[0mmemo\u001b[0m\u001b[0;34m[\u001b[0m\u001b[0;34m\"{target_sum}, {arr}\"\u001b[0m\u001b[0;34m]\u001b[0m \u001b[0;34m=\u001b[0m \u001b[0mremainderResult\u001b[0m \u001b[0;34m+\u001b[0m \u001b[0;34m[\u001b[0m\u001b[0ma\u001b[0m\u001b[0;34m]\u001b[0m\u001b[0;34m\u001b[0m\u001b[0;34m\u001b[0m\u001b[0m\n",
      "\u001b[0;32m<ipython-input-30-faf0ea858d44>\u001b[0m in \u001b[0;36mhowSum\u001b[0;34m(target_sum, arr, memo)\u001b[0m\n\u001b[1;32m     13\u001b[0m     \u001b[0;32mfor\u001b[0m \u001b[0ma\u001b[0m \u001b[0;32min\u001b[0m \u001b[0marr\u001b[0m\u001b[0;34m:\u001b[0m\u001b[0;34m\u001b[0m\u001b[0;34m\u001b[0m\u001b[0m\n\u001b[1;32m     14\u001b[0m         \u001b[0mremainder\u001b[0m \u001b[0;34m=\u001b[0m \u001b[0mtarget_sum\u001b[0m \u001b[0;34m-\u001b[0m \u001b[0ma\u001b[0m\u001b[0;34m\u001b[0m\u001b[0;34m\u001b[0m\u001b[0m\n\u001b[0;32m---> 15\u001b[0;31m         \u001b[0mremainderResult\u001b[0m \u001b[0;34m=\u001b[0m \u001b[0mhowSum\u001b[0m\u001b[0;34m(\u001b[0m\u001b[0mremainder\u001b[0m\u001b[0;34m,\u001b[0m \u001b[0marr\u001b[0m\u001b[0;34m,\u001b[0m \u001b[0mmemo\u001b[0m\u001b[0;34m)\u001b[0m\u001b[0;34m\u001b[0m\u001b[0;34m\u001b[0m\u001b[0m\n\u001b[0m\u001b[1;32m     16\u001b[0m         \u001b[0;32mif\u001b[0m \u001b[0mremainderResult\u001b[0m \u001b[0;34m!=\u001b[0m \u001b[0;32mNone\u001b[0m\u001b[0;34m:\u001b[0m\u001b[0;34m\u001b[0m\u001b[0;34m\u001b[0m\u001b[0m\n\u001b[1;32m     17\u001b[0m             \u001b[0mmemo\u001b[0m\u001b[0;34m[\u001b[0m\u001b[0;34m\"{target_sum}, {arr}\"\u001b[0m\u001b[0;34m]\u001b[0m \u001b[0;34m=\u001b[0m \u001b[0mremainderResult\u001b[0m \u001b[0;34m+\u001b[0m \u001b[0;34m[\u001b[0m\u001b[0ma\u001b[0m\u001b[0;34m]\u001b[0m\u001b[0;34m\u001b[0m\u001b[0;34m\u001b[0m\u001b[0m\n",
      "\u001b[0;32m<ipython-input-30-faf0ea858d44>\u001b[0m in \u001b[0;36mhowSum\u001b[0;34m(target_sum, arr, memo)\u001b[0m\n\u001b[1;32m     13\u001b[0m     \u001b[0;32mfor\u001b[0m \u001b[0ma\u001b[0m \u001b[0;32min\u001b[0m \u001b[0marr\u001b[0m\u001b[0;34m:\u001b[0m\u001b[0;34m\u001b[0m\u001b[0;34m\u001b[0m\u001b[0m\n\u001b[1;32m     14\u001b[0m         \u001b[0mremainder\u001b[0m \u001b[0;34m=\u001b[0m \u001b[0mtarget_sum\u001b[0m \u001b[0;34m-\u001b[0m \u001b[0ma\u001b[0m\u001b[0;34m\u001b[0m\u001b[0;34m\u001b[0m\u001b[0m\n\u001b[0;32m---> 15\u001b[0;31m         \u001b[0mremainderResult\u001b[0m \u001b[0;34m=\u001b[0m \u001b[0mhowSum\u001b[0m\u001b[0;34m(\u001b[0m\u001b[0mremainder\u001b[0m\u001b[0;34m,\u001b[0m \u001b[0marr\u001b[0m\u001b[0;34m,\u001b[0m \u001b[0mmemo\u001b[0m\u001b[0;34m)\u001b[0m\u001b[0;34m\u001b[0m\u001b[0;34m\u001b[0m\u001b[0m\n\u001b[0m\u001b[1;32m     16\u001b[0m         \u001b[0;32mif\u001b[0m \u001b[0mremainderResult\u001b[0m \u001b[0;34m!=\u001b[0m \u001b[0;32mNone\u001b[0m\u001b[0;34m:\u001b[0m\u001b[0;34m\u001b[0m\u001b[0;34m\u001b[0m\u001b[0m\n\u001b[1;32m     17\u001b[0m             \u001b[0mmemo\u001b[0m\u001b[0;34m[\u001b[0m\u001b[0;34m\"{target_sum}, {arr}\"\u001b[0m\u001b[0;34m]\u001b[0m \u001b[0;34m=\u001b[0m \u001b[0mremainderResult\u001b[0m \u001b[0;34m+\u001b[0m \u001b[0;34m[\u001b[0m\u001b[0ma\u001b[0m\u001b[0;34m]\u001b[0m\u001b[0;34m\u001b[0m\u001b[0;34m\u001b[0m\u001b[0m\n",
      "\u001b[0;32m<ipython-input-30-faf0ea858d44>\u001b[0m in \u001b[0;36mhowSum\u001b[0;34m(target_sum, arr, memo)\u001b[0m\n\u001b[1;32m     13\u001b[0m     \u001b[0;32mfor\u001b[0m \u001b[0ma\u001b[0m \u001b[0;32min\u001b[0m \u001b[0marr\u001b[0m\u001b[0;34m:\u001b[0m\u001b[0;34m\u001b[0m\u001b[0;34m\u001b[0m\u001b[0m\n\u001b[1;32m     14\u001b[0m         \u001b[0mremainder\u001b[0m \u001b[0;34m=\u001b[0m \u001b[0mtarget_sum\u001b[0m \u001b[0;34m-\u001b[0m \u001b[0ma\u001b[0m\u001b[0;34m\u001b[0m\u001b[0;34m\u001b[0m\u001b[0m\n\u001b[0;32m---> 15\u001b[0;31m         \u001b[0mremainderResult\u001b[0m \u001b[0;34m=\u001b[0m \u001b[0mhowSum\u001b[0m\u001b[0;34m(\u001b[0m\u001b[0mremainder\u001b[0m\u001b[0;34m,\u001b[0m \u001b[0marr\u001b[0m\u001b[0;34m,\u001b[0m \u001b[0mmemo\u001b[0m\u001b[0;34m)\u001b[0m\u001b[0;34m\u001b[0m\u001b[0;34m\u001b[0m\u001b[0m\n\u001b[0m\u001b[1;32m     16\u001b[0m         \u001b[0;32mif\u001b[0m \u001b[0mremainderResult\u001b[0m \u001b[0;34m!=\u001b[0m \u001b[0;32mNone\u001b[0m\u001b[0;34m:\u001b[0m\u001b[0;34m\u001b[0m\u001b[0;34m\u001b[0m\u001b[0m\n\u001b[1;32m     17\u001b[0m             \u001b[0mmemo\u001b[0m\u001b[0;34m[\u001b[0m\u001b[0;34m\"{target_sum}, {arr}\"\u001b[0m\u001b[0;34m]\u001b[0m \u001b[0;34m=\u001b[0m \u001b[0mremainderResult\u001b[0m \u001b[0;34m+\u001b[0m \u001b[0;34m[\u001b[0m\u001b[0ma\u001b[0m\u001b[0;34m]\u001b[0m\u001b[0;34m\u001b[0m\u001b[0;34m\u001b[0m\u001b[0m\n",
      "\u001b[0;32m<ipython-input-30-faf0ea858d44>\u001b[0m in \u001b[0;36mhowSum\u001b[0;34m(target_sum, arr, memo)\u001b[0m\n\u001b[1;32m     13\u001b[0m     \u001b[0;32mfor\u001b[0m \u001b[0ma\u001b[0m \u001b[0;32min\u001b[0m \u001b[0marr\u001b[0m\u001b[0;34m:\u001b[0m\u001b[0;34m\u001b[0m\u001b[0;34m\u001b[0m\u001b[0m\n\u001b[1;32m     14\u001b[0m         \u001b[0mremainder\u001b[0m \u001b[0;34m=\u001b[0m \u001b[0mtarget_sum\u001b[0m \u001b[0;34m-\u001b[0m \u001b[0ma\u001b[0m\u001b[0;34m\u001b[0m\u001b[0;34m\u001b[0m\u001b[0m\n\u001b[0;32m---> 15\u001b[0;31m         \u001b[0mremainderResult\u001b[0m \u001b[0;34m=\u001b[0m \u001b[0mhowSum\u001b[0m\u001b[0;34m(\u001b[0m\u001b[0mremainder\u001b[0m\u001b[0;34m,\u001b[0m \u001b[0marr\u001b[0m\u001b[0;34m,\u001b[0m \u001b[0mmemo\u001b[0m\u001b[0;34m)\u001b[0m\u001b[0;34m\u001b[0m\u001b[0;34m\u001b[0m\u001b[0m\n\u001b[0m\u001b[1;32m     16\u001b[0m         \u001b[0;32mif\u001b[0m \u001b[0mremainderResult\u001b[0m \u001b[0;34m!=\u001b[0m \u001b[0;32mNone\u001b[0m\u001b[0;34m:\u001b[0m\u001b[0;34m\u001b[0m\u001b[0;34m\u001b[0m\u001b[0m\n\u001b[1;32m     17\u001b[0m             \u001b[0mmemo\u001b[0m\u001b[0;34m[\u001b[0m\u001b[0;34m\"{target_sum}, {arr}\"\u001b[0m\u001b[0;34m]\u001b[0m \u001b[0;34m=\u001b[0m \u001b[0mremainderResult\u001b[0m \u001b[0;34m+\u001b[0m \u001b[0;34m[\u001b[0m\u001b[0ma\u001b[0m\u001b[0;34m]\u001b[0m\u001b[0;34m\u001b[0m\u001b[0;34m\u001b[0m\u001b[0m\n",
      "\u001b[0;32m<ipython-input-30-faf0ea858d44>\u001b[0m in \u001b[0;36mhowSum\u001b[0;34m(target_sum, arr, memo)\u001b[0m\n\u001b[1;32m     13\u001b[0m     \u001b[0;32mfor\u001b[0m \u001b[0ma\u001b[0m \u001b[0;32min\u001b[0m \u001b[0marr\u001b[0m\u001b[0;34m:\u001b[0m\u001b[0;34m\u001b[0m\u001b[0;34m\u001b[0m\u001b[0m\n\u001b[1;32m     14\u001b[0m         \u001b[0mremainder\u001b[0m \u001b[0;34m=\u001b[0m \u001b[0mtarget_sum\u001b[0m \u001b[0;34m-\u001b[0m \u001b[0ma\u001b[0m\u001b[0;34m\u001b[0m\u001b[0;34m\u001b[0m\u001b[0m\n\u001b[0;32m---> 15\u001b[0;31m         \u001b[0mremainderResult\u001b[0m \u001b[0;34m=\u001b[0m \u001b[0mhowSum\u001b[0m\u001b[0;34m(\u001b[0m\u001b[0mremainder\u001b[0m\u001b[0;34m,\u001b[0m \u001b[0marr\u001b[0m\u001b[0;34m,\u001b[0m \u001b[0mmemo\u001b[0m\u001b[0;34m)\u001b[0m\u001b[0;34m\u001b[0m\u001b[0;34m\u001b[0m\u001b[0m\n\u001b[0m\u001b[1;32m     16\u001b[0m         \u001b[0;32mif\u001b[0m \u001b[0mremainderResult\u001b[0m \u001b[0;34m!=\u001b[0m \u001b[0;32mNone\u001b[0m\u001b[0;34m:\u001b[0m\u001b[0;34m\u001b[0m\u001b[0;34m\u001b[0m\u001b[0m\n\u001b[1;32m     17\u001b[0m             \u001b[0mmemo\u001b[0m\u001b[0;34m[\u001b[0m\u001b[0;34m\"{target_sum}, {arr}\"\u001b[0m\u001b[0;34m]\u001b[0m \u001b[0;34m=\u001b[0m \u001b[0mremainderResult\u001b[0m \u001b[0;34m+\u001b[0m \u001b[0;34m[\u001b[0m\u001b[0ma\u001b[0m\u001b[0;34m]\u001b[0m\u001b[0;34m\u001b[0m\u001b[0;34m\u001b[0m\u001b[0m\n",
      "\u001b[0;32m<ipython-input-30-faf0ea858d44>\u001b[0m in \u001b[0;36mhowSum\u001b[0;34m(target_sum, arr, memo)\u001b[0m\n\u001b[1;32m     13\u001b[0m     \u001b[0;32mfor\u001b[0m \u001b[0ma\u001b[0m \u001b[0;32min\u001b[0m \u001b[0marr\u001b[0m\u001b[0;34m:\u001b[0m\u001b[0;34m\u001b[0m\u001b[0;34m\u001b[0m\u001b[0m\n\u001b[1;32m     14\u001b[0m         \u001b[0mremainder\u001b[0m \u001b[0;34m=\u001b[0m \u001b[0mtarget_sum\u001b[0m \u001b[0;34m-\u001b[0m \u001b[0ma\u001b[0m\u001b[0;34m\u001b[0m\u001b[0;34m\u001b[0m\u001b[0m\n\u001b[0;32m---> 15\u001b[0;31m         \u001b[0mremainderResult\u001b[0m \u001b[0;34m=\u001b[0m \u001b[0mhowSum\u001b[0m\u001b[0;34m(\u001b[0m\u001b[0mremainder\u001b[0m\u001b[0;34m,\u001b[0m \u001b[0marr\u001b[0m\u001b[0;34m,\u001b[0m \u001b[0mmemo\u001b[0m\u001b[0;34m)\u001b[0m\u001b[0;34m\u001b[0m\u001b[0;34m\u001b[0m\u001b[0m\n\u001b[0m\u001b[1;32m     16\u001b[0m         \u001b[0;32mif\u001b[0m \u001b[0mremainderResult\u001b[0m \u001b[0;34m!=\u001b[0m \u001b[0;32mNone\u001b[0m\u001b[0;34m:\u001b[0m\u001b[0;34m\u001b[0m\u001b[0;34m\u001b[0m\u001b[0m\n\u001b[1;32m     17\u001b[0m             \u001b[0mmemo\u001b[0m\u001b[0;34m[\u001b[0m\u001b[0;34m\"{target_sum}, {arr}\"\u001b[0m\u001b[0;34m]\u001b[0m \u001b[0;34m=\u001b[0m \u001b[0mremainderResult\u001b[0m \u001b[0;34m+\u001b[0m \u001b[0;34m[\u001b[0m\u001b[0ma\u001b[0m\u001b[0;34m]\u001b[0m\u001b[0;34m\u001b[0m\u001b[0;34m\u001b[0m\u001b[0m\n",
      "\u001b[0;32m<ipython-input-30-faf0ea858d44>\u001b[0m in \u001b[0;36mhowSum\u001b[0;34m(target_sum, arr, memo)\u001b[0m\n\u001b[1;32m     13\u001b[0m     \u001b[0;32mfor\u001b[0m \u001b[0ma\u001b[0m \u001b[0;32min\u001b[0m \u001b[0marr\u001b[0m\u001b[0;34m:\u001b[0m\u001b[0;34m\u001b[0m\u001b[0;34m\u001b[0m\u001b[0m\n\u001b[1;32m     14\u001b[0m         \u001b[0mremainder\u001b[0m \u001b[0;34m=\u001b[0m \u001b[0mtarget_sum\u001b[0m \u001b[0;34m-\u001b[0m \u001b[0ma\u001b[0m\u001b[0;34m\u001b[0m\u001b[0;34m\u001b[0m\u001b[0m\n\u001b[0;32m---> 15\u001b[0;31m         \u001b[0mremainderResult\u001b[0m \u001b[0;34m=\u001b[0m \u001b[0mhowSum\u001b[0m\u001b[0;34m(\u001b[0m\u001b[0mremainder\u001b[0m\u001b[0;34m,\u001b[0m \u001b[0marr\u001b[0m\u001b[0;34m,\u001b[0m \u001b[0mmemo\u001b[0m\u001b[0;34m)\u001b[0m\u001b[0;34m\u001b[0m\u001b[0;34m\u001b[0m\u001b[0m\n\u001b[0m\u001b[1;32m     16\u001b[0m         \u001b[0;32mif\u001b[0m \u001b[0mremainderResult\u001b[0m \u001b[0;34m!=\u001b[0m \u001b[0;32mNone\u001b[0m\u001b[0;34m:\u001b[0m\u001b[0;34m\u001b[0m\u001b[0;34m\u001b[0m\u001b[0m\n\u001b[1;32m     17\u001b[0m             \u001b[0mmemo\u001b[0m\u001b[0;34m[\u001b[0m\u001b[0;34m\"{target_sum}, {arr}\"\u001b[0m\u001b[0;34m]\u001b[0m \u001b[0;34m=\u001b[0m \u001b[0mremainderResult\u001b[0m \u001b[0;34m+\u001b[0m \u001b[0;34m[\u001b[0m\u001b[0ma\u001b[0m\u001b[0;34m]\u001b[0m\u001b[0;34m\u001b[0m\u001b[0;34m\u001b[0m\u001b[0m\n",
      "\u001b[0;32m<ipython-input-30-faf0ea858d44>\u001b[0m in \u001b[0;36mhowSum\u001b[0;34m(target_sum, arr, memo)\u001b[0m\n\u001b[1;32m     13\u001b[0m     \u001b[0;32mfor\u001b[0m \u001b[0ma\u001b[0m \u001b[0;32min\u001b[0m \u001b[0marr\u001b[0m\u001b[0;34m:\u001b[0m\u001b[0;34m\u001b[0m\u001b[0;34m\u001b[0m\u001b[0m\n\u001b[1;32m     14\u001b[0m         \u001b[0mremainder\u001b[0m \u001b[0;34m=\u001b[0m \u001b[0mtarget_sum\u001b[0m \u001b[0;34m-\u001b[0m \u001b[0ma\u001b[0m\u001b[0;34m\u001b[0m\u001b[0;34m\u001b[0m\u001b[0m\n\u001b[0;32m---> 15\u001b[0;31m         \u001b[0mremainderResult\u001b[0m \u001b[0;34m=\u001b[0m \u001b[0mhowSum\u001b[0m\u001b[0;34m(\u001b[0m\u001b[0mremainder\u001b[0m\u001b[0;34m,\u001b[0m \u001b[0marr\u001b[0m\u001b[0;34m,\u001b[0m \u001b[0mmemo\u001b[0m\u001b[0;34m)\u001b[0m\u001b[0;34m\u001b[0m\u001b[0;34m\u001b[0m\u001b[0m\n\u001b[0m\u001b[1;32m     16\u001b[0m         \u001b[0;32mif\u001b[0m \u001b[0mremainderResult\u001b[0m \u001b[0;34m!=\u001b[0m \u001b[0;32mNone\u001b[0m\u001b[0;34m:\u001b[0m\u001b[0;34m\u001b[0m\u001b[0;34m\u001b[0m\u001b[0m\n\u001b[1;32m     17\u001b[0m             \u001b[0mmemo\u001b[0m\u001b[0;34m[\u001b[0m\u001b[0;34m\"{target_sum}, {arr}\"\u001b[0m\u001b[0;34m]\u001b[0m \u001b[0;34m=\u001b[0m \u001b[0mremainderResult\u001b[0m \u001b[0;34m+\u001b[0m \u001b[0;34m[\u001b[0m\u001b[0ma\u001b[0m\u001b[0;34m]\u001b[0m\u001b[0;34m\u001b[0m\u001b[0;34m\u001b[0m\u001b[0m\n",
      "\u001b[0;32m<ipython-input-30-faf0ea858d44>\u001b[0m in \u001b[0;36mhowSum\u001b[0;34m(target_sum, arr, memo)\u001b[0m\n\u001b[1;32m     13\u001b[0m     \u001b[0;32mfor\u001b[0m \u001b[0ma\u001b[0m \u001b[0;32min\u001b[0m \u001b[0marr\u001b[0m\u001b[0;34m:\u001b[0m\u001b[0;34m\u001b[0m\u001b[0;34m\u001b[0m\u001b[0m\n\u001b[1;32m     14\u001b[0m         \u001b[0mremainder\u001b[0m \u001b[0;34m=\u001b[0m \u001b[0mtarget_sum\u001b[0m \u001b[0;34m-\u001b[0m \u001b[0ma\u001b[0m\u001b[0;34m\u001b[0m\u001b[0;34m\u001b[0m\u001b[0m\n\u001b[0;32m---> 15\u001b[0;31m         \u001b[0mremainderResult\u001b[0m \u001b[0;34m=\u001b[0m \u001b[0mhowSum\u001b[0m\u001b[0;34m(\u001b[0m\u001b[0mremainder\u001b[0m\u001b[0;34m,\u001b[0m \u001b[0marr\u001b[0m\u001b[0;34m,\u001b[0m \u001b[0mmemo\u001b[0m\u001b[0;34m)\u001b[0m\u001b[0;34m\u001b[0m\u001b[0;34m\u001b[0m\u001b[0m\n\u001b[0m\u001b[1;32m     16\u001b[0m         \u001b[0;32mif\u001b[0m \u001b[0mremainderResult\u001b[0m \u001b[0;34m!=\u001b[0m \u001b[0;32mNone\u001b[0m\u001b[0;34m:\u001b[0m\u001b[0;34m\u001b[0m\u001b[0;34m\u001b[0m\u001b[0m\n\u001b[1;32m     17\u001b[0m             \u001b[0mmemo\u001b[0m\u001b[0;34m[\u001b[0m\u001b[0;34m\"{target_sum}, {arr}\"\u001b[0m\u001b[0;34m]\u001b[0m \u001b[0;34m=\u001b[0m \u001b[0mremainderResult\u001b[0m \u001b[0;34m+\u001b[0m \u001b[0;34m[\u001b[0m\u001b[0ma\u001b[0m\u001b[0;34m]\u001b[0m\u001b[0;34m\u001b[0m\u001b[0;34m\u001b[0m\u001b[0m\n",
      "\u001b[0;32m<ipython-input-30-faf0ea858d44>\u001b[0m in \u001b[0;36mhowSum\u001b[0;34m(target_sum, arr, memo)\u001b[0m\n\u001b[1;32m     13\u001b[0m     \u001b[0;32mfor\u001b[0m \u001b[0ma\u001b[0m \u001b[0;32min\u001b[0m \u001b[0marr\u001b[0m\u001b[0;34m:\u001b[0m\u001b[0;34m\u001b[0m\u001b[0;34m\u001b[0m\u001b[0m\n\u001b[1;32m     14\u001b[0m         \u001b[0mremainder\u001b[0m \u001b[0;34m=\u001b[0m \u001b[0mtarget_sum\u001b[0m \u001b[0;34m-\u001b[0m \u001b[0ma\u001b[0m\u001b[0;34m\u001b[0m\u001b[0;34m\u001b[0m\u001b[0m\n\u001b[0;32m---> 15\u001b[0;31m         \u001b[0mremainderResult\u001b[0m \u001b[0;34m=\u001b[0m \u001b[0mhowSum\u001b[0m\u001b[0;34m(\u001b[0m\u001b[0mremainder\u001b[0m\u001b[0;34m,\u001b[0m \u001b[0marr\u001b[0m\u001b[0;34m,\u001b[0m \u001b[0mmemo\u001b[0m\u001b[0;34m)\u001b[0m\u001b[0;34m\u001b[0m\u001b[0;34m\u001b[0m\u001b[0m\n\u001b[0m\u001b[1;32m     16\u001b[0m         \u001b[0;32mif\u001b[0m \u001b[0mremainderResult\u001b[0m \u001b[0;34m!=\u001b[0m \u001b[0;32mNone\u001b[0m\u001b[0;34m:\u001b[0m\u001b[0;34m\u001b[0m\u001b[0;34m\u001b[0m\u001b[0m\n\u001b[1;32m     17\u001b[0m             \u001b[0mmemo\u001b[0m\u001b[0;34m[\u001b[0m\u001b[0;34m\"{target_sum}, {arr}\"\u001b[0m\u001b[0;34m]\u001b[0m \u001b[0;34m=\u001b[0m \u001b[0mremainderResult\u001b[0m \u001b[0;34m+\u001b[0m \u001b[0;34m[\u001b[0m\u001b[0ma\u001b[0m\u001b[0;34m]\u001b[0m\u001b[0;34m\u001b[0m\u001b[0;34m\u001b[0m\u001b[0m\n",
      "\u001b[0;32m<ipython-input-30-faf0ea858d44>\u001b[0m in \u001b[0;36mhowSum\u001b[0;34m(target_sum, arr, memo)\u001b[0m\n\u001b[1;32m     13\u001b[0m     \u001b[0;32mfor\u001b[0m \u001b[0ma\u001b[0m \u001b[0;32min\u001b[0m \u001b[0marr\u001b[0m\u001b[0;34m:\u001b[0m\u001b[0;34m\u001b[0m\u001b[0;34m\u001b[0m\u001b[0m\n\u001b[1;32m     14\u001b[0m         \u001b[0mremainder\u001b[0m \u001b[0;34m=\u001b[0m \u001b[0mtarget_sum\u001b[0m \u001b[0;34m-\u001b[0m \u001b[0ma\u001b[0m\u001b[0;34m\u001b[0m\u001b[0;34m\u001b[0m\u001b[0m\n\u001b[0;32m---> 15\u001b[0;31m         \u001b[0mremainderResult\u001b[0m \u001b[0;34m=\u001b[0m \u001b[0mhowSum\u001b[0m\u001b[0;34m(\u001b[0m\u001b[0mremainder\u001b[0m\u001b[0;34m,\u001b[0m \u001b[0marr\u001b[0m\u001b[0;34m,\u001b[0m \u001b[0mmemo\u001b[0m\u001b[0;34m)\u001b[0m\u001b[0;34m\u001b[0m\u001b[0;34m\u001b[0m\u001b[0m\n\u001b[0m\u001b[1;32m     16\u001b[0m         \u001b[0;32mif\u001b[0m \u001b[0mremainderResult\u001b[0m \u001b[0;34m!=\u001b[0m \u001b[0;32mNone\u001b[0m\u001b[0;34m:\u001b[0m\u001b[0;34m\u001b[0m\u001b[0;34m\u001b[0m\u001b[0m\n\u001b[1;32m     17\u001b[0m             \u001b[0mmemo\u001b[0m\u001b[0;34m[\u001b[0m\u001b[0;34m\"{target_sum}, {arr}\"\u001b[0m\u001b[0;34m]\u001b[0m \u001b[0;34m=\u001b[0m \u001b[0mremainderResult\u001b[0m \u001b[0;34m+\u001b[0m \u001b[0;34m[\u001b[0m\u001b[0ma\u001b[0m\u001b[0;34m]\u001b[0m\u001b[0;34m\u001b[0m\u001b[0;34m\u001b[0m\u001b[0m\n",
      "\u001b[0;32m<ipython-input-30-faf0ea858d44>\u001b[0m in \u001b[0;36mhowSum\u001b[0;34m(target_sum, arr, memo)\u001b[0m\n\u001b[1;32m     13\u001b[0m     \u001b[0;32mfor\u001b[0m \u001b[0ma\u001b[0m \u001b[0;32min\u001b[0m \u001b[0marr\u001b[0m\u001b[0;34m:\u001b[0m\u001b[0;34m\u001b[0m\u001b[0;34m\u001b[0m\u001b[0m\n\u001b[1;32m     14\u001b[0m         \u001b[0mremainder\u001b[0m \u001b[0;34m=\u001b[0m \u001b[0mtarget_sum\u001b[0m \u001b[0;34m-\u001b[0m \u001b[0ma\u001b[0m\u001b[0;34m\u001b[0m\u001b[0;34m\u001b[0m\u001b[0m\n\u001b[0;32m---> 15\u001b[0;31m         \u001b[0mremainderResult\u001b[0m \u001b[0;34m=\u001b[0m \u001b[0mhowSum\u001b[0m\u001b[0;34m(\u001b[0m\u001b[0mremainder\u001b[0m\u001b[0;34m,\u001b[0m \u001b[0marr\u001b[0m\u001b[0;34m,\u001b[0m \u001b[0mmemo\u001b[0m\u001b[0;34m)\u001b[0m\u001b[0;34m\u001b[0m\u001b[0;34m\u001b[0m\u001b[0m\n\u001b[0m\u001b[1;32m     16\u001b[0m         \u001b[0;32mif\u001b[0m \u001b[0mremainderResult\u001b[0m \u001b[0;34m!=\u001b[0m \u001b[0;32mNone\u001b[0m\u001b[0;34m:\u001b[0m\u001b[0;34m\u001b[0m\u001b[0;34m\u001b[0m\u001b[0m\n\u001b[1;32m     17\u001b[0m             \u001b[0mmemo\u001b[0m\u001b[0;34m[\u001b[0m\u001b[0;34m\"{target_sum}, {arr}\"\u001b[0m\u001b[0;34m]\u001b[0m \u001b[0;34m=\u001b[0m \u001b[0mremainderResult\u001b[0m \u001b[0;34m+\u001b[0m \u001b[0;34m[\u001b[0m\u001b[0ma\u001b[0m\u001b[0;34m]\u001b[0m\u001b[0;34m\u001b[0m\u001b[0;34m\u001b[0m\u001b[0m\n",
      "\u001b[0;32m<ipython-input-30-faf0ea858d44>\u001b[0m in \u001b[0;36mhowSum\u001b[0;34m(target_sum, arr, memo)\u001b[0m\n\u001b[1;32m     13\u001b[0m     \u001b[0;32mfor\u001b[0m \u001b[0ma\u001b[0m \u001b[0;32min\u001b[0m \u001b[0marr\u001b[0m\u001b[0;34m:\u001b[0m\u001b[0;34m\u001b[0m\u001b[0;34m\u001b[0m\u001b[0m\n\u001b[1;32m     14\u001b[0m         \u001b[0mremainder\u001b[0m \u001b[0;34m=\u001b[0m \u001b[0mtarget_sum\u001b[0m \u001b[0;34m-\u001b[0m \u001b[0ma\u001b[0m\u001b[0;34m\u001b[0m\u001b[0;34m\u001b[0m\u001b[0m\n\u001b[0;32m---> 15\u001b[0;31m         \u001b[0mremainderResult\u001b[0m \u001b[0;34m=\u001b[0m \u001b[0mhowSum\u001b[0m\u001b[0;34m(\u001b[0m\u001b[0mremainder\u001b[0m\u001b[0;34m,\u001b[0m \u001b[0marr\u001b[0m\u001b[0;34m,\u001b[0m \u001b[0mmemo\u001b[0m\u001b[0;34m)\u001b[0m\u001b[0;34m\u001b[0m\u001b[0;34m\u001b[0m\u001b[0m\n\u001b[0m\u001b[1;32m     16\u001b[0m         \u001b[0;32mif\u001b[0m \u001b[0mremainderResult\u001b[0m \u001b[0;34m!=\u001b[0m \u001b[0;32mNone\u001b[0m\u001b[0;34m:\u001b[0m\u001b[0;34m\u001b[0m\u001b[0;34m\u001b[0m\u001b[0m\n\u001b[1;32m     17\u001b[0m             \u001b[0mmemo\u001b[0m\u001b[0;34m[\u001b[0m\u001b[0;34m\"{target_sum}, {arr}\"\u001b[0m\u001b[0;34m]\u001b[0m \u001b[0;34m=\u001b[0m \u001b[0mremainderResult\u001b[0m \u001b[0;34m+\u001b[0m \u001b[0;34m[\u001b[0m\u001b[0ma\u001b[0m\u001b[0;34m]\u001b[0m\u001b[0;34m\u001b[0m\u001b[0;34m\u001b[0m\u001b[0m\n",
      "\u001b[0;32m<ipython-input-30-faf0ea858d44>\u001b[0m in \u001b[0;36mhowSum\u001b[0;34m(target_sum, arr, memo)\u001b[0m\n\u001b[1;32m     13\u001b[0m     \u001b[0;32mfor\u001b[0m \u001b[0ma\u001b[0m \u001b[0;32min\u001b[0m \u001b[0marr\u001b[0m\u001b[0;34m:\u001b[0m\u001b[0;34m\u001b[0m\u001b[0;34m\u001b[0m\u001b[0m\n\u001b[1;32m     14\u001b[0m         \u001b[0mremainder\u001b[0m \u001b[0;34m=\u001b[0m \u001b[0mtarget_sum\u001b[0m \u001b[0;34m-\u001b[0m \u001b[0ma\u001b[0m\u001b[0;34m\u001b[0m\u001b[0;34m\u001b[0m\u001b[0m\n\u001b[0;32m---> 15\u001b[0;31m         \u001b[0mremainderResult\u001b[0m \u001b[0;34m=\u001b[0m \u001b[0mhowSum\u001b[0m\u001b[0;34m(\u001b[0m\u001b[0mremainder\u001b[0m\u001b[0;34m,\u001b[0m \u001b[0marr\u001b[0m\u001b[0;34m,\u001b[0m \u001b[0mmemo\u001b[0m\u001b[0;34m)\u001b[0m\u001b[0;34m\u001b[0m\u001b[0;34m\u001b[0m\u001b[0m\n\u001b[0m\u001b[1;32m     16\u001b[0m         \u001b[0;32mif\u001b[0m \u001b[0mremainderResult\u001b[0m \u001b[0;34m!=\u001b[0m \u001b[0;32mNone\u001b[0m\u001b[0;34m:\u001b[0m\u001b[0;34m\u001b[0m\u001b[0;34m\u001b[0m\u001b[0m\n\u001b[1;32m     17\u001b[0m             \u001b[0mmemo\u001b[0m\u001b[0;34m[\u001b[0m\u001b[0;34m\"{target_sum}, {arr}\"\u001b[0m\u001b[0;34m]\u001b[0m \u001b[0;34m=\u001b[0m \u001b[0mremainderResult\u001b[0m \u001b[0;34m+\u001b[0m \u001b[0;34m[\u001b[0m\u001b[0ma\u001b[0m\u001b[0;34m]\u001b[0m\u001b[0;34m\u001b[0m\u001b[0;34m\u001b[0m\u001b[0m\n",
      "\u001b[0;32m<ipython-input-30-faf0ea858d44>\u001b[0m in \u001b[0;36mhowSum\u001b[0;34m(target_sum, arr, memo)\u001b[0m\n\u001b[1;32m     13\u001b[0m     \u001b[0;32mfor\u001b[0m \u001b[0ma\u001b[0m \u001b[0;32min\u001b[0m \u001b[0marr\u001b[0m\u001b[0;34m:\u001b[0m\u001b[0;34m\u001b[0m\u001b[0;34m\u001b[0m\u001b[0m\n\u001b[1;32m     14\u001b[0m         \u001b[0mremainder\u001b[0m \u001b[0;34m=\u001b[0m \u001b[0mtarget_sum\u001b[0m \u001b[0;34m-\u001b[0m \u001b[0ma\u001b[0m\u001b[0;34m\u001b[0m\u001b[0;34m\u001b[0m\u001b[0m\n\u001b[0;32m---> 15\u001b[0;31m         \u001b[0mremainderResult\u001b[0m \u001b[0;34m=\u001b[0m \u001b[0mhowSum\u001b[0m\u001b[0;34m(\u001b[0m\u001b[0mremainder\u001b[0m\u001b[0;34m,\u001b[0m \u001b[0marr\u001b[0m\u001b[0;34m,\u001b[0m \u001b[0mmemo\u001b[0m\u001b[0;34m)\u001b[0m\u001b[0;34m\u001b[0m\u001b[0;34m\u001b[0m\u001b[0m\n\u001b[0m\u001b[1;32m     16\u001b[0m         \u001b[0;32mif\u001b[0m \u001b[0mremainderResult\u001b[0m \u001b[0;34m!=\u001b[0m \u001b[0;32mNone\u001b[0m\u001b[0;34m:\u001b[0m\u001b[0;34m\u001b[0m\u001b[0;34m\u001b[0m\u001b[0m\n\u001b[1;32m     17\u001b[0m             \u001b[0mmemo\u001b[0m\u001b[0;34m[\u001b[0m\u001b[0;34m\"{target_sum}, {arr}\"\u001b[0m\u001b[0;34m]\u001b[0m \u001b[0;34m=\u001b[0m \u001b[0mremainderResult\u001b[0m \u001b[0;34m+\u001b[0m \u001b[0;34m[\u001b[0m\u001b[0ma\u001b[0m\u001b[0;34m]\u001b[0m\u001b[0;34m\u001b[0m\u001b[0;34m\u001b[0m\u001b[0m\n",
      "\u001b[0;32m<ipython-input-30-faf0ea858d44>\u001b[0m in \u001b[0;36mhowSum\u001b[0;34m(target_sum, arr, memo)\u001b[0m\n\u001b[1;32m     13\u001b[0m     \u001b[0;32mfor\u001b[0m \u001b[0ma\u001b[0m \u001b[0;32min\u001b[0m \u001b[0marr\u001b[0m\u001b[0;34m:\u001b[0m\u001b[0;34m\u001b[0m\u001b[0;34m\u001b[0m\u001b[0m\n\u001b[1;32m     14\u001b[0m         \u001b[0mremainder\u001b[0m \u001b[0;34m=\u001b[0m \u001b[0mtarget_sum\u001b[0m \u001b[0;34m-\u001b[0m \u001b[0ma\u001b[0m\u001b[0;34m\u001b[0m\u001b[0;34m\u001b[0m\u001b[0m\n\u001b[0;32m---> 15\u001b[0;31m         \u001b[0mremainderResult\u001b[0m \u001b[0;34m=\u001b[0m \u001b[0mhowSum\u001b[0m\u001b[0;34m(\u001b[0m\u001b[0mremainder\u001b[0m\u001b[0;34m,\u001b[0m \u001b[0marr\u001b[0m\u001b[0;34m,\u001b[0m \u001b[0mmemo\u001b[0m\u001b[0;34m)\u001b[0m\u001b[0;34m\u001b[0m\u001b[0;34m\u001b[0m\u001b[0m\n\u001b[0m\u001b[1;32m     16\u001b[0m         \u001b[0;32mif\u001b[0m \u001b[0mremainderResult\u001b[0m \u001b[0;34m!=\u001b[0m \u001b[0;32mNone\u001b[0m\u001b[0;34m:\u001b[0m\u001b[0;34m\u001b[0m\u001b[0;34m\u001b[0m\u001b[0m\n\u001b[1;32m     17\u001b[0m             \u001b[0mmemo\u001b[0m\u001b[0;34m[\u001b[0m\u001b[0;34m\"{target_sum}, {arr}\"\u001b[0m\u001b[0;34m]\u001b[0m \u001b[0;34m=\u001b[0m \u001b[0mremainderResult\u001b[0m \u001b[0;34m+\u001b[0m \u001b[0;34m[\u001b[0m\u001b[0ma\u001b[0m\u001b[0;34m]\u001b[0m\u001b[0;34m\u001b[0m\u001b[0;34m\u001b[0m\u001b[0m\n",
      "\u001b[0;32m<ipython-input-30-faf0ea858d44>\u001b[0m in \u001b[0;36mhowSum\u001b[0;34m(target_sum, arr, memo)\u001b[0m\n\u001b[1;32m     13\u001b[0m     \u001b[0;32mfor\u001b[0m \u001b[0ma\u001b[0m \u001b[0;32min\u001b[0m \u001b[0marr\u001b[0m\u001b[0;34m:\u001b[0m\u001b[0;34m\u001b[0m\u001b[0;34m\u001b[0m\u001b[0m\n\u001b[1;32m     14\u001b[0m         \u001b[0mremainder\u001b[0m \u001b[0;34m=\u001b[0m \u001b[0mtarget_sum\u001b[0m \u001b[0;34m-\u001b[0m \u001b[0ma\u001b[0m\u001b[0;34m\u001b[0m\u001b[0;34m\u001b[0m\u001b[0m\n\u001b[0;32m---> 15\u001b[0;31m         \u001b[0mremainderResult\u001b[0m \u001b[0;34m=\u001b[0m \u001b[0mhowSum\u001b[0m\u001b[0;34m(\u001b[0m\u001b[0mremainder\u001b[0m\u001b[0;34m,\u001b[0m \u001b[0marr\u001b[0m\u001b[0;34m,\u001b[0m \u001b[0mmemo\u001b[0m\u001b[0;34m)\u001b[0m\u001b[0;34m\u001b[0m\u001b[0;34m\u001b[0m\u001b[0m\n\u001b[0m\u001b[1;32m     16\u001b[0m         \u001b[0;32mif\u001b[0m \u001b[0mremainderResult\u001b[0m \u001b[0;34m!=\u001b[0m \u001b[0;32mNone\u001b[0m\u001b[0;34m:\u001b[0m\u001b[0;34m\u001b[0m\u001b[0;34m\u001b[0m\u001b[0m\n\u001b[1;32m     17\u001b[0m             \u001b[0mmemo\u001b[0m\u001b[0;34m[\u001b[0m\u001b[0;34m\"{target_sum}, {arr}\"\u001b[0m\u001b[0;34m]\u001b[0m \u001b[0;34m=\u001b[0m \u001b[0mremainderResult\u001b[0m \u001b[0;34m+\u001b[0m \u001b[0;34m[\u001b[0m\u001b[0ma\u001b[0m\u001b[0;34m]\u001b[0m\u001b[0;34m\u001b[0m\u001b[0;34m\u001b[0m\u001b[0m\n",
      "\u001b[0;32m<ipython-input-30-faf0ea858d44>\u001b[0m in \u001b[0;36mhowSum\u001b[0;34m(target_sum, arr, memo)\u001b[0m\n\u001b[1;32m     13\u001b[0m     \u001b[0;32mfor\u001b[0m \u001b[0ma\u001b[0m \u001b[0;32min\u001b[0m \u001b[0marr\u001b[0m\u001b[0;34m:\u001b[0m\u001b[0;34m\u001b[0m\u001b[0;34m\u001b[0m\u001b[0m\n\u001b[1;32m     14\u001b[0m         \u001b[0mremainder\u001b[0m \u001b[0;34m=\u001b[0m \u001b[0mtarget_sum\u001b[0m \u001b[0;34m-\u001b[0m \u001b[0ma\u001b[0m\u001b[0;34m\u001b[0m\u001b[0;34m\u001b[0m\u001b[0m\n\u001b[0;32m---> 15\u001b[0;31m         \u001b[0mremainderResult\u001b[0m \u001b[0;34m=\u001b[0m \u001b[0mhowSum\u001b[0m\u001b[0;34m(\u001b[0m\u001b[0mremainder\u001b[0m\u001b[0;34m,\u001b[0m \u001b[0marr\u001b[0m\u001b[0;34m,\u001b[0m \u001b[0mmemo\u001b[0m\u001b[0;34m)\u001b[0m\u001b[0;34m\u001b[0m\u001b[0;34m\u001b[0m\u001b[0m\n\u001b[0m\u001b[1;32m     16\u001b[0m         \u001b[0;32mif\u001b[0m \u001b[0mremainderResult\u001b[0m \u001b[0;34m!=\u001b[0m \u001b[0;32mNone\u001b[0m\u001b[0;34m:\u001b[0m\u001b[0;34m\u001b[0m\u001b[0;34m\u001b[0m\u001b[0m\n\u001b[1;32m     17\u001b[0m             \u001b[0mmemo\u001b[0m\u001b[0;34m[\u001b[0m\u001b[0;34m\"{target_sum}, {arr}\"\u001b[0m\u001b[0;34m]\u001b[0m \u001b[0;34m=\u001b[0m \u001b[0mremainderResult\u001b[0m \u001b[0;34m+\u001b[0m \u001b[0;34m[\u001b[0m\u001b[0ma\u001b[0m\u001b[0;34m]\u001b[0m\u001b[0;34m\u001b[0m\u001b[0;34m\u001b[0m\u001b[0m\n",
      "\u001b[0;32m<ipython-input-30-faf0ea858d44>\u001b[0m in \u001b[0;36mhowSum\u001b[0;34m(target_sum, arr, memo)\u001b[0m\n\u001b[1;32m      2\u001b[0m \u001b[0;34m\u001b[0m\u001b[0m\n\u001b[1;32m      3\u001b[0m \u001b[0;32mdef\u001b[0m \u001b[0mhowSum\u001b[0m\u001b[0;34m(\u001b[0m\u001b[0mtarget_sum\u001b[0m\u001b[0;34m,\u001b[0m \u001b[0marr\u001b[0m\u001b[0;34m,\u001b[0m \u001b[0mmemo\u001b[0m\u001b[0;34m)\u001b[0m\u001b[0;34m:\u001b[0m\u001b[0;34m\u001b[0m\u001b[0;34m\u001b[0m\u001b[0m\n\u001b[0;32m----> 4\u001b[0;31m     \u001b[0;32mif\u001b[0m \u001b[0;34mf\"{target_sum}, {arr}\"\u001b[0m \u001b[0;32min\u001b[0m \u001b[0mmemo\u001b[0m\u001b[0;34m:\u001b[0m\u001b[0;34m\u001b[0m\u001b[0;34m\u001b[0m\u001b[0m\n\u001b[0m\u001b[1;32m      5\u001b[0m         \u001b[0;32mreturn\u001b[0m \u001b[0mmemo\u001b[0m\u001b[0;34m[\u001b[0m\u001b[0;34m\"{target_sum}, {arr}\"\u001b[0m\u001b[0;34m]\u001b[0m\u001b[0;34m\u001b[0m\u001b[0;34m\u001b[0m\u001b[0m\n\u001b[1;32m      6\u001b[0m \u001b[0;34m\u001b[0m\u001b[0m\n",
      "\u001b[0;31mKeyboardInterrupt\u001b[0m: "
     ]
    }
   ],
   "source": [
    "howSum(300, [7, 14], memo)"
   ]
  },
  {
   "cell_type": "markdown",
   "id": "58f3d8c2",
   "metadata": {},
   "source": [
    "# Best Sum"
   ]
  },
  {
   "cell_type": "code",
   "execution_count": 41,
   "id": "19ce26b8",
   "metadata": {},
   "outputs": [],
   "source": [
    "def bestSum(target_sum, arr):\n",
    "    if target_sum == 0:\n",
    "        return []\n",
    "    \n",
    "    if target_sum < 0:\n",
    "        return None\n",
    "    \n",
    "    shortestCombination = None\n",
    "    \n",
    "    for a in arr:\n",
    "        remainder = target_sum - a\n",
    "        remainderCombination = bestSum(remainder, arr)\n",
    "        if remainderCombination != None:\n",
    "            Combination = remainderCombination + [a]\n",
    "            if shortestCombination == None or len(Combination) < len(shortestCombination):\n",
    "                shortestCombination = Combination\n",
    "        \n",
    "    return shortestCombination      "
   ]
  },
  {
   "cell_type": "code",
   "execution_count": 42,
   "id": "ffc40ed7",
   "metadata": {},
   "outputs": [
    {
     "data": {
      "text/plain": [
       "[7]"
      ]
     },
     "execution_count": 42,
     "metadata": {},
     "output_type": "execute_result"
    }
   ],
   "source": [
    "bestSum(7, [5, 3, 4, 7])"
   ]
  },
  {
   "cell_type": "code",
   "execution_count": 43,
   "id": "f0f4c73b",
   "metadata": {},
   "outputs": [
    {
     "data": {
      "text/plain": [
       "[5, 3]"
      ]
     },
     "execution_count": 43,
     "metadata": {},
     "output_type": "execute_result"
    }
   ],
   "source": [
    "bestSum(8, [2, 3, 5])"
   ]
  },
  {
   "cell_type": "code",
   "execution_count": 44,
   "id": "5686f90a",
   "metadata": {},
   "outputs": [
    {
     "data": {
      "text/plain": [
       "[4, 4]"
      ]
     },
     "execution_count": 44,
     "metadata": {},
     "output_type": "execute_result"
    }
   ],
   "source": [
    "bestSum(8, [1, 4, 5])"
   ]
  },
  {
   "cell_type": "code",
   "execution_count": 59,
   "id": "d7279bea",
   "metadata": {},
   "outputs": [],
   "source": [
    "memo = {}\n",
    "\n",
    "def best_sum(target_sum, arr, memo):\n",
    "    if f\"{target_sum}, {arr}\" in memo:\n",
    "        return memo[f\"{target_sum}, {arr}\"]\n",
    "    \n",
    "    if target_sum == 0:\n",
    "        return []\n",
    "    \n",
    "    if target_sum < 0:\n",
    "        return None\n",
    "    \n",
    "    shortest_combination = None\n",
    "    \n",
    "    # try out each number in arr\n",
    "    for a in arr:\n",
    "        # Check if rest of the tree can form the target sum with number a\n",
    "        remainder = target_sum - a\n",
    "        remainder_combination = best_sum(remainder, arr, memo)\n",
    "        \n",
    "        # if remainder_combination is not none, \n",
    "        # then rest of the sub tree can form the remainder with number a\n",
    "        if remainder_combination != None:\n",
    "            # combination: sub tree + root\n",
    "            combination = remainder_combination + [a]\n",
    "            \n",
    "            # if conditions then update\n",
    "            if shortest_combination == None or len(combination) < len(shortest_combination):\n",
    "                shortest_combination = combination\n",
    "                memo[f\"{target_sum}, {arr}\"] = shortest_combination\n",
    "        \n",
    "    return shortest_combination"
   ]
  },
  {
   "cell_type": "code",
   "execution_count": 61,
   "id": "f16d8bc3",
   "metadata": {},
   "outputs": [
    {
     "data": {
      "text/plain": [
       "[4, 4]"
      ]
     },
     "execution_count": 61,
     "metadata": {},
     "output_type": "execute_result"
    }
   ],
   "source": [
    "best_sum(8, [1, 4, 5], memo)"
   ]
  },
  {
   "cell_type": "code",
   "execution_count": 62,
   "id": "51f270a9",
   "metadata": {},
   "outputs": [
    {
     "data": {
      "text/plain": [
       "[25, 25, 25, 25]"
      ]
     },
     "execution_count": 62,
     "metadata": {},
     "output_type": "execute_result"
    }
   ],
   "source": [
    "best_sum(100, [1, 2, 5, 25], memo)"
   ]
  },
  {
   "cell_type": "markdown",
   "id": "70330c61",
   "metadata": {},
   "source": [
    "# Can Construct"
   ]
  },
  {
   "cell_type": "code",
   "execution_count": 169,
   "id": "97149fc2",
   "metadata": {},
   "outputs": [],
   "source": [
    "if \"abcdef\".index(\"abc\") == 0:\n",
    "    suffix = \"abcdef\"[len(\"abc\"):]"
   ]
  },
  {
   "cell_type": "code",
   "execution_count": 170,
   "id": "b93511ab",
   "metadata": {},
   "outputs": [
    {
     "data": {
      "text/plain": [
       "'def'"
      ]
     },
     "execution_count": 170,
     "metadata": {},
     "output_type": "execute_result"
    }
   ],
   "source": [
    "suffix"
   ]
  },
  {
   "cell_type": "code",
   "execution_count": 173,
   "id": "c4c31bd9",
   "metadata": {},
   "outputs": [],
   "source": [
    "def can_construct(target, word_bank):\n",
    "    if target == \"\":\n",
    "        return True\n",
    "    \n",
    "    for a in word_bank:\n",
    "        try:\n",
    "            if target.index(a) == 0:\n",
    "                suffix = target[len(a):]\n",
    "                if can_construct(suffix, word_bank) == True:\n",
    "                    return True\n",
    "                \n",
    "        except ValueError:\n",
    "            pass\n",
    "\n",
    "    return False"
   ]
  },
  {
   "cell_type": "code",
   "execution_count": 174,
   "id": "fce5d0a9",
   "metadata": {},
   "outputs": [
    {
     "data": {
      "text/plain": [
       "True"
      ]
     },
     "execution_count": 174,
     "metadata": {},
     "output_type": "execute_result"
    }
   ],
   "source": [
    "can_construct(\"abcdef\", [\"ab\", \"abc\", \"cd\", \"def\", \"abcd\"])"
   ]
  },
  {
   "cell_type": "code",
   "execution_count": 175,
   "id": "04a12fae",
   "metadata": {},
   "outputs": [
    {
     "data": {
      "text/plain": [
       "False"
      ]
     },
     "execution_count": 175,
     "metadata": {},
     "output_type": "execute_result"
    }
   ],
   "source": [
    "can_construct(\"skateboard\", [\"bo\", \"rd\", \"ate\", \"t\", \"ska\", \"sk\", \"boar\"])"
   ]
  },
  {
   "cell_type": "code",
   "execution_count": 176,
   "id": "c1685683",
   "metadata": {},
   "outputs": [
    {
     "data": {
      "text/plain": [
       "True"
      ]
     },
     "execution_count": 176,
     "metadata": {},
     "output_type": "execute_result"
    }
   ],
   "source": [
    "can_construct(\"enterapotentpot\", [\"a\", \"p\", \"ent\", \"enter\", \"ot\", \"o\", \"t\"])"
   ]
  },
  {
   "cell_type": "code",
   "execution_count": 180,
   "id": "6ef26cda",
   "metadata": {},
   "outputs": [],
   "source": [
    "memo = {}\n",
    "\n",
    "def can_construct(target, word_bank, memo):\n",
    "    if f\"{target}, {word_bank}\" in memo:\n",
    "        return memo[f\"{target}, {word_bank}\"]\n",
    "    \n",
    "    if target == \"\":\n",
    "        return True\n",
    "    \n",
    "    for a in word_bank:\n",
    "        try:\n",
    "            if target.index(a) == 0:\n",
    "                suffix = target[len(a):]\n",
    "                if can_construct(suffix, word_bank, memo) == True:\n",
    "                    memo[f\"{target}, {word_bank}\"] = True\n",
    "                    return True\n",
    "                \n",
    "        except ValueError:\n",
    "            pass\n",
    "    \n",
    "    memo[f\"{target}, {word_bank}\"] = False\n",
    "    return False"
   ]
  },
  {
   "cell_type": "code",
   "execution_count": 181,
   "id": "3aeed61f",
   "metadata": {},
   "outputs": [
    {
     "data": {
      "text/plain": [
       "False"
      ]
     },
     "execution_count": 181,
     "metadata": {},
     "output_type": "execute_result"
    }
   ],
   "source": [
    "can_construct(\"eeeeeeeeeeeeeeeeeeeeeeeeeeeeeeeeeeeeeeeeeeeeeeeef\", [\n",
    "    \"e\", \n",
    "    \"ee\", \n",
    "    \"eee\", \n",
    "    \"eeee\", \n",
    "    \"eeeee\", \n",
    "    \"eeeeee\"\n",
    "], \n",
    "              memo)"
   ]
  },
  {
   "cell_type": "markdown",
   "id": "2a31cb62",
   "metadata": {},
   "source": [
    "# All Construct"
   ]
  },
  {
   "cell_type": "code",
   "execution_count": 312,
   "id": "088f41fa",
   "metadata": {},
   "outputs": [],
   "source": [
    "def all_construct(target, word_bank):\n",
    "    if target == \"\":\n",
    "        return [[]]\n",
    "    \n",
    "    sequence = []\n",
    "    for word in word_bank:\n",
    "        try:\n",
    "            if target.index(word) == 0:\n",
    "                suffix = target[len(word):]\n",
    "                suffix_ways = all_construct(suffix, word_bank) # [B, C, ...]\n",
    "                target_ways = [[word] + ways for ways in suffix_ways] # [A, B, C, ...]\n",
    "                sequence += target_ways # [[A, B, C, ...]]\n",
    "                    \n",
    "        except ValueError:\n",
    "            pass\n",
    "    \n",
    "    return sequence"
   ]
  },
  {
   "cell_type": "code",
   "execution_count": 313,
   "id": "7cd271ec",
   "metadata": {},
   "outputs": [
    {
     "data": {
      "text/plain": [
       "[['purp', 'le'], ['p', 'ur', 'p', 'le']]"
      ]
     },
     "execution_count": 313,
     "metadata": {},
     "output_type": "execute_result"
    }
   ],
   "source": [
    "all_construct(\"purple\", [\"purp\", \"p\", \"ur\", \"le\", \"purpl\"])"
   ]
  },
  {
   "cell_type": "code",
   "execution_count": 314,
   "id": "fd3ddb22",
   "metadata": {},
   "outputs": [
    {
     "data": {
      "text/plain": [
       "[]"
      ]
     },
     "execution_count": 314,
     "metadata": {},
     "output_type": "execute_result"
    }
   ],
   "source": [
    "all_construct(\"skateboard\", [\"bo\", \"rd\", \"ate\", \"t\", \"ska\", \"sk\", \"boar\"])"
   ]
  },
  {
   "cell_type": "code",
   "execution_count": 315,
   "id": "029cfcfe",
   "metadata": {},
   "outputs": [],
   "source": [
    "memo = {}\n",
    "\n",
    "def all_construct(target, word_bank, memo):\n",
    "    if target in memo:\n",
    "        return memo[target]\n",
    "    \n",
    "    if target == \"\":\n",
    "        return [[]]\n",
    "    \n",
    "    sequence = []\n",
    "    for word in word_bank:\n",
    "        try:\n",
    "            if target.index(word) == 0:\n",
    "                suffix = target[len(word):]\n",
    "                suffix_ways = all_construct(suffix, word_bank, memo) # [B, C, ...]\n",
    "                target_ways = [[word] + ways for ways in suffix_ways] # [A, B, C, ...]\n",
    "                sequence += target_ways # [[A, B, C, ...]]\n",
    "                    \n",
    "        except ValueError:\n",
    "            pass\n",
    "    \n",
    "    memo[target] = sequence\n",
    "    \n",
    "    return sequence"
   ]
  },
  {
   "cell_type": "code",
   "execution_count": 316,
   "id": "06621a3e",
   "metadata": {},
   "outputs": [
    {
     "data": {
      "text/plain": [
       "[['purp', 'le'], ['p', 'ur', 'p', 'le']]"
      ]
     },
     "execution_count": 316,
     "metadata": {},
     "output_type": "execute_result"
    }
   ],
   "source": [
    "all_construct(\"purple\", [\"purp\", \"p\", \"ur\", \"le\", \"purpl\"], memo)"
   ]
  },
  {
   "cell_type": "code",
   "execution_count": 317,
   "id": "1d07f8bb",
   "metadata": {},
   "outputs": [
    {
     "data": {
      "text/plain": [
       "[]"
      ]
     },
     "execution_count": 317,
     "metadata": {},
     "output_type": "execute_result"
    }
   ],
   "source": [
    "all_construct(\"skateboard\", [\"bo\", \"rd\", \"ate\", \"t\", \"ska\", \"sk\", \"boar\"], memo)"
   ]
  },
  {
   "cell_type": "code",
   "execution_count": 318,
   "id": "0c7de403",
   "metadata": {},
   "outputs": [
    {
     "data": {
      "text/plain": [
       "[]"
      ]
     },
     "execution_count": 318,
     "metadata": {},
     "output_type": "execute_result"
    }
   ],
   "source": [
    "all_construct(\"eeeeeeeeeeeeeeeeeeeeeeeeeeeeeeeeeeeeeeeeeeeeeeeef\", [\n",
    "    \"e\", \n",
    "    \"ee\", \n",
    "    \"eee\", \n",
    "    \"eeee\", \n",
    "    \"eeeee\", \n",
    "    \"eeeeee\"\n",
    "], \n",
    "              memo)"
   ]
  },
  {
   "cell_type": "markdown",
   "id": "808b3603",
   "metadata": {},
   "source": [
    "# Tabulation"
   ]
  },
  {
   "cell_type": "markdown",
   "id": "cabec2a4",
   "metadata": {},
   "source": [
    "# Fib"
   ]
  },
  {
   "cell_type": "code",
   "execution_count": 352,
   "id": "28736b2f",
   "metadata": {},
   "outputs": [],
   "source": [
    "def fib(n):\n",
    "    table = [0] * (n + 2)\n",
    "    table[1] = 1\n",
    "    for i in range(n):\n",
    "        table[i + 1] += table[i]\n",
    "        table[i + 2] += table[i]\n",
    "        \n",
    "    return table[n]"
   ]
  },
  {
   "cell_type": "code",
   "execution_count": 354,
   "id": "5f8caebd",
   "metadata": {},
   "outputs": [
    {
     "data": {
      "text/plain": [
       "8"
      ]
     },
     "execution_count": 354,
     "metadata": {},
     "output_type": "execute_result"
    }
   ],
   "source": [
    "fib(6)"
   ]
  },
  {
   "cell_type": "code",
   "execution_count": 355,
   "id": "255016d6",
   "metadata": {},
   "outputs": [
    {
     "data": {
      "text/plain": [
       "13"
      ]
     },
     "execution_count": 355,
     "metadata": {},
     "output_type": "execute_result"
    }
   ],
   "source": [
    "fib(7)"
   ]
  },
  {
   "cell_type": "code",
   "execution_count": 356,
   "id": "7f6e470b",
   "metadata": {},
   "outputs": [
    {
     "data": {
      "text/plain": [
       "12586269025"
      ]
     },
     "execution_count": 356,
     "metadata": {},
     "output_type": "execute_result"
    }
   ],
   "source": [
    "fib(50)"
   ]
  },
  {
   "cell_type": "markdown",
   "id": "f4d1e55b",
   "metadata": {},
   "source": [
    "# Grid Traveler"
   ]
  },
  {
   "cell_type": "code",
   "execution_count": 448,
   "id": "6e185675",
   "metadata": {},
   "outputs": [],
   "source": [
    "import numpy as np\n",
    "\n",
    "def grid_traveler(m, n):\n",
    "    table = np.zeros((m + 1) * (n + 1))\n",
    "    table = table.reshape((m + 1), (n + 1))\n",
    "    table[1][1] = 1\n",
    "    for i in range(m + 1):\n",
    "        for j in range(n + 1):\n",
    "            current = table[i][j]\n",
    "            if j + 1 <= n:\n",
    "                table[i][j + 1] += current\n",
    "            if i + 1 <= m:\n",
    "                table[i + 1][j] += current\n",
    "    \n",
    "    return table"
   ]
  },
  {
   "cell_type": "code",
   "execution_count": 449,
   "id": "fb32446e",
   "metadata": {},
   "outputs": [
    {
     "data": {
      "text/plain": [
       "array([[0., 0., 0., 0.],\n",
       "       [0., 1., 1., 1.],\n",
       "       [0., 1., 2., 3.],\n",
       "       [0., 1., 3., 6.]])"
      ]
     },
     "execution_count": 449,
     "metadata": {},
     "output_type": "execute_result"
    }
   ],
   "source": [
    "grid_traveler(3, 3)"
   ]
  },
  {
   "cell_type": "code",
   "execution_count": 443,
   "id": "188fd75e",
   "metadata": {},
   "outputs": [
    {
     "data": {
      "text/plain": [
       "2333606220.0"
      ]
     },
     "execution_count": 443,
     "metadata": {},
     "output_type": "execute_result"
    }
   ],
   "source": [
    "grid_traveler(18, 18)"
   ]
  },
  {
   "cell_type": "markdown",
   "id": "d4a64ee8",
   "metadata": {},
   "source": [
    "# Can Sum"
   ]
  },
  {
   "cell_type": "code",
   "execution_count": 503,
   "id": "e5f82e0c",
   "metadata": {},
   "outputs": [],
   "source": [
    "def can_sum(target_sum, arr):\n",
    "    table = np.zeros(target_sum + 1)\n",
    "    table[0] = True\n",
    "    for i in range(target_sum + 2):\n",
    "        for a in arr:\n",
    "            if i + a <= target_sum and table[i] == True:\n",
    "                table[i + a] = table[i]\n",
    "            \n",
    "    return table[-1]"
   ]
  },
  {
   "cell_type": "code",
   "execution_count": 504,
   "id": "d399a38f",
   "metadata": {},
   "outputs": [
    {
     "data": {
      "text/plain": [
       "1.0"
      ]
     },
     "execution_count": 504,
     "metadata": {},
     "output_type": "execute_result"
    }
   ],
   "source": [
    "can_sum(7, [5, 3, 4])"
   ]
  },
  {
   "cell_type": "code",
   "execution_count": 505,
   "id": "6f1f117f",
   "metadata": {},
   "outputs": [
    {
     "data": {
      "text/plain": [
       "1.0"
      ]
     },
     "execution_count": 505,
     "metadata": {},
     "output_type": "execute_result"
    }
   ],
   "source": [
    "can_sum(7, [5, 3, 4, 7])"
   ]
  },
  {
   "cell_type": "code",
   "execution_count": 506,
   "id": "c288a25a",
   "metadata": {},
   "outputs": [
    {
     "data": {
      "text/plain": [
       "0.0"
      ]
     },
     "execution_count": 506,
     "metadata": {},
     "output_type": "execute_result"
    }
   ],
   "source": [
    "can_sum(7, [2, 4])"
   ]
  },
  {
   "cell_type": "code",
   "execution_count": 507,
   "id": "03fdd9bb",
   "metadata": {},
   "outputs": [
    {
     "data": {
      "text/plain": [
       "1.0"
      ]
     },
     "execution_count": 507,
     "metadata": {},
     "output_type": "execute_result"
    }
   ],
   "source": [
    "can_sum(7, [2, 3, 5])"
   ]
  },
  {
   "cell_type": "code",
   "execution_count": 508,
   "id": "a6abd4c4",
   "metadata": {},
   "outputs": [
    {
     "data": {
      "text/plain": [
       "0.0"
      ]
     },
     "execution_count": 508,
     "metadata": {},
     "output_type": "execute_result"
    }
   ],
   "source": [
    "can_sum(300, [7, 14])"
   ]
  },
  {
   "cell_type": "markdown",
   "id": "540ef6b7",
   "metadata": {},
   "source": [
    "# How Sum"
   ]
  },
  {
   "cell_type": "code",
   "execution_count": 528,
   "id": "feb9c0f8",
   "metadata": {},
   "outputs": [],
   "source": [
    "def how_sum(target_sum, arr):\n",
    "    table = [None] * (target_sum + 1)\n",
    "    table[0] = []\n",
    "    for i in range(target_sum + 2):\n",
    "        for a in arr:\n",
    "            if i + a <= target_sum and table[i] == []:\n",
    "                table[i + a] = table[i] + [a]\n",
    "\n",
    "            elif i + a <= target_sum and type(table[i]) == list:\n",
    "                table[i + a] = table[i] + [a]\n",
    "\n",
    "    return table[-1]"
   ]
  },
  {
   "cell_type": "code",
   "execution_count": 529,
   "id": "1ece0b63",
   "metadata": {},
   "outputs": [
    {
     "data": {
      "text/plain": [
       "[4, 3]"
      ]
     },
     "execution_count": 529,
     "metadata": {},
     "output_type": "execute_result"
    }
   ],
   "source": [
    "how_sum(7, [5, 4, 3])"
   ]
  },
  {
   "cell_type": "code",
   "execution_count": 530,
   "id": "0b90f711",
   "metadata": {},
   "outputs": [
    {
     "data": {
      "text/plain": [
       "[2, 2, 2, 2]"
      ]
     },
     "execution_count": 530,
     "metadata": {},
     "output_type": "execute_result"
    }
   ],
   "source": [
    "how_sum(8, [2, 3, 5])"
   ]
  },
  {
   "cell_type": "code",
   "execution_count": 531,
   "id": "6ec28cbd",
   "metadata": {},
   "outputs": [],
   "source": [
    "how_sum(300, [7, 14])"
   ]
  },
  {
   "cell_type": "markdown",
   "id": "d571ecf6",
   "metadata": {},
   "source": [
    "# Best Sum"
   ]
  },
  {
   "cell_type": "code",
   "execution_count": 576,
   "id": "8c24c70b",
   "metadata": {},
   "outputs": [],
   "source": [
    "def best_sum(target_sum, arr):\n",
    "    table = [None] * (target_sum + 1)\n",
    "    table[0] = []\n",
    "    combinations = []\n",
    "    for i in range(target_sum + 2):\n",
    "        for a in arr:\n",
    "            if i + a <= target_sum and table[i] == []:\n",
    "                table[i + a] = table[i] + [a]\n",
    "\n",
    "            elif i + a <= target_sum and type(table[i]) == list:\n",
    "                table[i + a] = table[i] + [a]\n",
    "\n",
    "            if table[-1] != None:\n",
    "                combinations.append(table[-1])\n",
    "\n",
    "    length_list = [len(c) for c in combinations]\n",
    "    try:\n",
    "        shortest_length_index = length_list.index(min(length_list))             \n",
    "        return combinations[shortest_length_index]\n",
    "    \n",
    "    except ValueError:\n",
    "        return None"
   ]
  },
  {
   "cell_type": "code",
   "execution_count": 577,
   "id": "4a70ec9e",
   "metadata": {},
   "outputs": [
    {
     "data": {
      "text/plain": [
       "[3, 4]"
      ]
     },
     "execution_count": 577,
     "metadata": {},
     "output_type": "execute_result"
    }
   ],
   "source": [
    "best_sum(7, [5, 4, 3])"
   ]
  },
  {
   "cell_type": "code",
   "execution_count": 578,
   "id": "01b3d21f",
   "metadata": {},
   "outputs": [
    {
     "data": {
      "text/plain": [
       "[3, 5]"
      ]
     },
     "execution_count": 578,
     "metadata": {},
     "output_type": "execute_result"
    }
   ],
   "source": [
    "best_sum(8, [2, 3, 5])"
   ]
  },
  {
   "cell_type": "code",
   "execution_count": 579,
   "id": "a32d973a",
   "metadata": {},
   "outputs": [],
   "source": [
    "best_sum(300, [7, 14])"
   ]
  },
  {
   "cell_type": "markdown",
   "id": "ec03c33e",
   "metadata": {},
   "source": [
    "# Can Construct"
   ]
  },
  {
   "cell_type": "code",
   "execution_count": 597,
   "id": "f452644a",
   "metadata": {},
   "outputs": [],
   "source": [
    "def can_construct(target, word_bank):\n",
    "    table = [False] * (len(target) + 1)\n",
    "    table[0] = True\n",
    "    for i in range(len(target) + 1):\n",
    "        for w in word_bank:\n",
    "            if target[i:i + len(w)] in word_bank:\n",
    "                if i + len(w) <= len(target):\n",
    "                    table[i + len(w)] = table[i]\n",
    "\n",
    "    return table[-1]"
   ]
  },
  {
   "cell_type": "code",
   "execution_count": 598,
   "id": "c386eb9c",
   "metadata": {},
   "outputs": [
    {
     "data": {
      "text/plain": [
       "True"
      ]
     },
     "execution_count": 598,
     "metadata": {},
     "output_type": "execute_result"
    }
   ],
   "source": [
    "can_construct(\"abcdef\", [\"ab\", \"abc\", \"cd\", \"def\", \"abcd\"])"
   ]
  },
  {
   "cell_type": "code",
   "execution_count": 599,
   "id": "8d341f74",
   "metadata": {},
   "outputs": [
    {
     "data": {
      "text/plain": [
       "False"
      ]
     },
     "execution_count": 599,
     "metadata": {},
     "output_type": "execute_result"
    }
   ],
   "source": [
    "can_construct(\"skateboard\", [\"bo\", \"rd\", \"ate\", \"t\", \"ska\", \"sk\", \"boar\"])"
   ]
  },
  {
   "cell_type": "code",
   "execution_count": 600,
   "id": "ddd51879",
   "metadata": {},
   "outputs": [
    {
     "data": {
      "text/plain": [
       "False"
      ]
     },
     "execution_count": 600,
     "metadata": {},
     "output_type": "execute_result"
    }
   ],
   "source": [
    "can_construct(\"eeeeeeeeeeeeeeeeeeeeeeeeeeeeeeeeeeeeeeeeeeeeeeeef\", [\n",
    "    \"e\", \n",
    "    \"ee\", \n",
    "    \"eee\", \n",
    "    \"eeee\", \n",
    "    \"eeeee\", \n",
    "    \"eeeeee\"\n",
    "])"
   ]
  },
  {
   "cell_type": "markdown",
   "id": "9ce1e92c",
   "metadata": {},
   "source": [
    "# Count Construct"
   ]
  },
  {
   "cell_type": "code",
   "execution_count": 631,
   "id": "1b2ac59f",
   "metadata": {},
   "outputs": [],
   "source": [
    "def count_construct(target, word_bank):\n",
    "    table = np.zeros(len(target) + 1)\n",
    "    table[0] = 1\n",
    "    for i in range(len(target) + 1):\n",
    "        for w in word_bank:\n",
    "            if target[i:i + len(w)] == w:\n",
    "                table[i + len(w)] += table[i]\n",
    "\n",
    "    return table[-1]"
   ]
  },
  {
   "cell_type": "code",
   "execution_count": 632,
   "id": "0c45aea6",
   "metadata": {},
   "outputs": [
    {
     "data": {
      "text/plain": [
       "2.0"
      ]
     },
     "execution_count": 632,
     "metadata": {},
     "output_type": "execute_result"
    }
   ],
   "source": [
    "count_construct(\"purple\", [\"purp\", \"p\", \"ur\", \"le\", \"purpl\"])"
   ]
  },
  {
   "cell_type": "code",
   "execution_count": 633,
   "id": "fdaab6dc",
   "metadata": {},
   "outputs": [
    {
     "data": {
      "text/plain": [
       "1.0"
      ]
     },
     "execution_count": 633,
     "metadata": {},
     "output_type": "execute_result"
    }
   ],
   "source": [
    "count_construct(\"abcdef\", [\"ab\", \"abc\", \"cd\", \"def\", \"abcd\"])"
   ]
  },
  {
   "cell_type": "code",
   "execution_count": 634,
   "id": "d522eea8",
   "metadata": {},
   "outputs": [
    {
     "data": {
      "text/plain": [
       "0.0"
      ]
     },
     "execution_count": 634,
     "metadata": {},
     "output_type": "execute_result"
    }
   ],
   "source": [
    "count_construct(\"eeeeeeeeeeeeeeeeeeeeeeeeeeeeeeeeeeeeeeeeeeeeeeeef\", [\n",
    "    \"e\", \n",
    "    \"ee\", \n",
    "    \"eee\", \n",
    "    \"eeee\", \n",
    "    \"eeeee\", \n",
    "    \"eeeeee\"\n",
    "])"
   ]
  },
  {
   "cell_type": "markdown",
   "id": "d4fe4906",
   "metadata": {},
   "source": [
    "# All Construct"
   ]
  },
  {
   "cell_type": "code",
   "execution_count": 69,
   "id": "23ad28c9",
   "metadata": {},
   "outputs": [],
   "source": [
    "def all_construct(target, word_bank):\n",
    "    table = [[] for i in range(len(target) + 1)]\n",
    "    table[0] = [[]]\n",
    "    for i in range(len(target) + 1):\n",
    "        for w in word_bank:\n",
    "            if target[i:i + len(w)] == w:\n",
    "                for j in range(len(table[i])):\n",
    "                    table[i + len(w)].append(table[i][j] + [w])\n",
    "\n",
    "    return table[-1]"
   ]
  },
  {
   "cell_type": "code",
   "execution_count": 70,
   "id": "9767b251",
   "metadata": {},
   "outputs": [
    {
     "data": {
      "text/plain": [
       "[['abc', 'def'], ['ab', 'c', 'def'], ['abcd', 'ef'], ['ab', 'cd', 'ef']]"
      ]
     },
     "execution_count": 70,
     "metadata": {},
     "output_type": "execute_result"
    }
   ],
   "source": [
    "all_construct(\"abcdef\", [\"ab\", \"abc\", \"cd\", \"def\", \"abcd\", \"ef\", \"c\"])"
   ]
  },
  {
   "cell_type": "code",
   "execution_count": 71,
   "id": "e7bd41e4",
   "metadata": {},
   "outputs": [
    {
     "data": {
      "text/plain": [
       "[['purp', 'le'], ['p', 'ur', 'p', 'le']]"
      ]
     },
     "execution_count": 71,
     "metadata": {},
     "output_type": "execute_result"
    }
   ],
   "source": [
    "all_construct(\"purple\", [\"purp\", \"p\", \"ur\", \"le\", \"purpl\"])"
   ]
  }
 ],
 "metadata": {
  "kernelspec": {
   "display_name": "Python 3",
   "language": "python",
   "name": "python3"
  },
  "language_info": {
   "codemirror_mode": {
    "name": "ipython",
    "version": 3
   },
   "file_extension": ".py",
   "mimetype": "text/x-python",
   "name": "python",
   "nbconvert_exporter": "python",
   "pygments_lexer": "ipython3",
   "version": "3.8.8"
  }
 },
 "nbformat": 4,
 "nbformat_minor": 5
}
