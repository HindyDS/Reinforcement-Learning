{
 "cells": [
  {
   "cell_type": "code",
   "execution_count": 233,
   "id": "5ecca0ba",
   "metadata": {},
   "outputs": [],
   "source": [
    "# Ecos\n",
    "import numpy as np\n",
    "import pandas as pd\n",
    "\n",
    "import seaborn as sns\n",
    "import matplotlib.pyplot as plt"
   ]
  },
  {
   "cell_type": "code",
   "execution_count": 344,
   "id": "4b8bc7ab",
   "metadata": {},
   "outputs": [],
   "source": [
    "class Grid_World:\n",
    "    def __init__(self, n_rows, n_cols, start_position, wall, rewards, actions):\n",
    "        grid = np.zeros(n_rows * n_cols).reshape(n_rows, n_cols)\n",
    "        grid[wall] = None\n",
    "        for k, v in rewards.items():\n",
    "            grid[k] = v\n",
    "            \n",
    "        self.n_rows = n_rows\n",
    "        self.n_cols = n_cols\n",
    "        self.start_position = start_position\n",
    "        self.wall = wall\n",
    "        self.current_state = start_position\n",
    "        self.rewards = rewards\n",
    "        self.actions = actions\n",
    "        self.all_states = actions.keys()\n",
    "        self.all_actions = actions.values()\n",
    "        self.grid = grid\n",
    "        self.non_terminal_states = actions.keys()\n",
    "    \n",
    "    def apply_action(self, action):\n",
    "        if action in self.actions[self.current_state]:\n",
    "            i, j = self.current_state[0], self.current_state[1]\n",
    "            if action == \"U\":\n",
    "                i -= 1\n",
    "                \n",
    "            elif action == \"D\":\n",
    "                i += 1\n",
    "                \n",
    "            elif action == \"L\":\n",
    "                j -= 1\n",
    "                \n",
    "            elif action == \"R\":\n",
    "                j += 1\n",
    "                \n",
    "        self.current_state = (i, j)\n",
    "        \n",
    "    def get_next_state(self, s, a):\n",
    "        i, j = s[0], s[1]\n",
    "        if a in actions[(i, j)]:\n",
    "            if a == \"U\":\n",
    "                i -= 1\n",
    "                \n",
    "            elif a == \"D\":\n",
    "                i += 1\n",
    "                \n",
    "            elif a == \"L\":\n",
    "                j -= 1\n",
    "                \n",
    "            elif a == \"R\":\n",
    "                j += 1\n",
    "                \n",
    "        return i, j\n",
    "        \n",
    "    def current_value(self):\n",
    "        return self.grid[self.current_state[0], self.current_state[1]]\n",
    "        \n",
    "    def is_game_over(self):\n",
    "        return self.current_state in self.rewards\n",
    "    \n",
    "    def reset(self, start_position=None):\n",
    "        if start_position == None:\n",
    "            self.current_state = self.start_position\n",
    "        else:\n",
    "            self.current_state = start_position\n",
    "            \n",
    "    def grid_values(self, values):\n",
    "        self.grid_val = self.grid.copy()\n",
    "        for key, val in values.items():\n",
    "            self.grid_val[key] = val\n",
    "            \n",
    "        self.grid_val[wall] = np.nan\n",
    "        \n",
    "        for key, val in rewards.items():\n",
    "            self.grid_val[key] = np.nan"
   ]
  },
  {
   "cell_type": "code",
   "execution_count": 345,
   "id": "a3d85661",
   "metadata": {},
   "outputs": [],
   "source": [
    "def ploy_episode():\n",
    "    rand_idx = np.random.choice(range(len(actions)))\n",
    "    rand_start = list(actions.keys())[rand_idx]\n",
    "    env.reset(rand_start)\n",
    "    states = [(2, 0)]\n",
    "    rewards_collected = [0]\n",
    "    while True:   \n",
    "        a = policy[env.current_state]\n",
    "        env.apply_action(a)\n",
    "        \n",
    "        states.append(env.current_state)\n",
    "        if env.current_state in rewards:\n",
    "            rewards_collected.append(rewards[env.current_state])\n",
    "\n",
    "        else:\n",
    "            rewards_collected.append(0)\n",
    "\n",
    "        if env.is_game_over():\n",
    "            break\n",
    "            \n",
    "    return states, rewards_collected"
   ]
  },
  {
   "cell_type": "markdown",
   "id": "3580809c",
   "metadata": {},
   "source": [
    "# Policy One"
   ]
  },
  {
   "cell_type": "code",
   "execution_count": 386,
   "id": "bf13446a",
   "metadata": {},
   "outputs": [],
   "source": [
    "rewards = {\n",
    "    (0, 3):1, \n",
    "    (1, 3):-1\n",
    "}\n",
    "\n",
    "actions = {\n",
    "    (0, 0):(\"D\", \"R\"),\n",
    "    (0, 1):(\"L\", \"R\"),\n",
    "    (0, 2):(\"L\", \"R\", \"D\"),\n",
    "    (1, 0):(\"U\", \"D\"), \n",
    "    (1, 2):(\"U\", \"D\", \"R\"),\n",
    "    (2, 0):(\"U\", \"R\"),\n",
    "    (2, 1):(\"L\", \"R\"),\n",
    "    (2, 2):(\"L\", \"U\", \"R\"),\n",
    "    (2, 3):(\"U\", \"L\")\n",
    "}\n",
    "\n",
    "policy = {\n",
    "    (2, 0):\"U\",\n",
    "    (1, 0):\"U\",\n",
    "    (0, 0):\"R\",\n",
    "    (0, 1):\"R\",\n",
    "    (0, 2):\"R\",\n",
    "    (1, 2):\"U\",\n",
    "    (2, 1):\"R\",\n",
    "    (2, 2):\"U\",\n",
    "    (2, 3):\"L\"\n",
    "}\n",
    "\n",
    "n_rows = 3\n",
    "n_cols = 4\n",
    "wall = (1, 1)\n",
    "start_position = (2, 0)\n",
    "threshold = 10e-3\n",
    "gamma = .9\n",
    "\n",
    "env = Grid_World(n_rows, n_cols, start_position, wall, rewards, actions)"
   ]
  },
  {
   "cell_type": "code",
   "execution_count": 387,
   "id": "9739ebdb",
   "metadata": {},
   "outputs": [
    {
     "data": {
      "text/plain": [
       "array([[ 0.,  0.,  0.,  1.],\n",
       "       [ 0., nan,  0., -1.],\n",
       "       [ 0.,  0.,  0.,  0.]])"
      ]
     },
     "execution_count": 387,
     "metadata": {},
     "output_type": "execute_result"
    }
   ],
   "source": [
    "env.grid"
   ]
  },
  {
   "cell_type": "code",
   "execution_count": 388,
   "id": "d96716b3",
   "metadata": {},
   "outputs": [],
   "source": [
    "# Initialize values as 0 and [] for all states\n",
    "v = {}\n",
    "returns = {}\n",
    "for rows in range(n_rows):\n",
    "    for cols in range(n_cols):\n",
    "        # if it is not terminal state\n",
    "        if (rows, cols) in g.actions:\n",
    "            returns[(rows, cols)] = []\n",
    "            \n",
    "        # values for terminal states should be zero\n",
    "        else:\n",
    "            v[(rows, cols)] = 0\n",
    "            \n",
    "for t in range(1000):\n",
    "    states, rewards_collected = ploy_episode()\n",
    "    G = 0\n",
    "    T = len(states)\n",
    "    for t in range(T - 2, -1, -1):\n",
    "        s = states[t]\n",
    "        r = rewards_collected[t + 1]      \n",
    "        G = r + gamma * G\n",
    "\n",
    "    # First visit Monte Carlo\n",
    "    #if s not in states[:t]:\n",
    "        if s != (2, 0):\n",
    "            returns[s].append(G)\n",
    "            v[s] = np.mean(returns[s])"
   ]
  },
  {
   "cell_type": "code",
   "execution_count": 389,
   "id": "e61e9bf3",
   "metadata": {},
   "outputs": [
    {
     "data": {
      "image/png": "[encoded data removed]",
      "text/plain": [
       "<Figure size 432x288 with 2 Axes>"
      ]
     },
     "metadata": {
      "needs_background": "light"
     },
     "output_type": "display_data"
    }
   ],
   "source": [
    "env.grid_values(v)\n",
    "sns.heatmap(env.grid_val, annot=True, cmap=\"YlGnBu_r\")\n",
    "plt.show()"
   ]
  },
  {
   "cell_type": "markdown",
   "id": "d16c146d",
   "metadata": {},
   "source": [
    "# Policy Two (Bad Policy)"
   ]
  },
  {
   "cell_type": "code",
   "execution_count": 391,
   "id": "a5f6c29e",
   "metadata": {},
   "outputs": [],
   "source": [
    "policy = {\n",
    "    (0, 0):\"D\",\n",
    "    (0, 1):\"L\",\n",
    "    (0, 2):\"D\",\n",
    "    (1, 0):\"D\",\n",
    "    (1, 2):\"R\",\n",
    "    (2, 0):\"R\",\n",
    "    (2, 1):\"R\",\n",
    "    (2, 2):\"R\",\n",
    "    (2, 3):\"U\"\n",
    "}"
   ]
  },
  {
   "cell_type": "code",
   "execution_count": 392,
   "id": "1ea1dbef",
   "metadata": {},
   "outputs": [],
   "source": [
    "# Initialize values as 0 and [] for all states\n",
    "v = {}\n",
    "returns = {}\n",
    "for rows in range(n_rows):\n",
    "    for cols in range(n_cols):\n",
    "        # if it is not terminal state\n",
    "        if (rows, cols) in g.actions:\n",
    "            returns[(rows, cols)] = []\n",
    "            \n",
    "        # values for terminal states should be zero\n",
    "        else:\n",
    "            v[(rows, cols)] = 0\n",
    "            \n",
    "for t in range(1000):\n",
    "    states, rewards_collected = ploy_episode()\n",
    "    G = 0\n",
    "    T = len(states)\n",
    "    for t in range(T - 2, -1, -1):\n",
    "        s = states[t]\n",
    "        r = rewards_collected[t + 1]      \n",
    "        G = r + gamma * G\n",
    "\n",
    "    # First visit Monte Carlo\n",
    "    #if s not in states[:t]:\n",
    "        if s != (2, 0):\n",
    "            returns[s].append(G)\n",
    "            v[s] = np.mean(returns[s])"
   ]
  },
  {
   "cell_type": "code",
   "execution_count": 393,
   "id": "051297b4",
   "metadata": {},
   "outputs": [
    {
     "data": {
      "image/png": "[encoded data removed]",
      "text/plain": [
       "<Figure size 432x288 with 2 Axes>"
      ]
     },
     "metadata": {
      "needs_background": "light"
     },
     "output_type": "display_data"
    }
   ],
   "source": [
    "env.grid_values(v)\n",
    "sns.heatmap(env.grid_val, annot=True, cmap=\"YlGnBu_r\")\n",
    "plt.show()"
   ]
  },
  {
   "cell_type": "code",
   "execution_count": null,
   "id": "18b8ac09",
   "metadata": {},
   "outputs": [],
   "source": []
  }
 ],
 "metadata": {
  "kernelspec": {
   "display_name": "Python 3",
   "language": "python",
   "name": "python3"
  },
  "language_info": {
   "codemirror_mode": {
    "name": "ipython",
    "version": 3
   },
   "file_extension": ".py",
   "mimetype": "text/x-python",
   "name": "python",
   "nbconvert_exporter": "python",
   "pygments_lexer": "ipython3",
   "version": "3.8.8"
  }
 },
 "nbformat": 4,
 "nbformat_minor": 5
}
